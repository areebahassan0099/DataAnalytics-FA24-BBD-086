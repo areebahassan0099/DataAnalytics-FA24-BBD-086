{
  "nbformat": 4,
  "nbformat_minor": 0,
  "metadata": {
    "colab": {
      "provenance": []
    },
    "kernelspec": {
      "name": "python3",
      "display_name": "Python 3"
    },
    "language_info": {
      "name": "python"
    }
  },
  "cells": [
    {
      "cell_type": "markdown",
      "source": [
        "*italicized text*# **Activity 1: Understanding and Exploring the Dataset (30 min)**\n",
        "\n",
        "✅ **Goal: Load and explore the dataset to understand its structure and contents.**\n",
        "\n",
        "# Tasks: Load the dataset using Pandas."
      ],
      "metadata": {
        "id": "sEfx_MakW2M0"
      }
    },
    {
      "cell_type": "markdown",
      "source": [],
      "metadata": {
        "id": "UEpmaWOvI_7N"
      }
    },
    {
      "cell_type": "code",
      "source": [
        "#Importing Pandas and Numpy\n",
        "import pandas as pd\n",
        "import numpy as np"
      ],
      "metadata": {
        "id": "YyFTqAyLXyMR"
      },
      "execution_count": 3,
      "outputs": []
    },
    {
      "cell_type": "code",
      "source": [
        "from google.colab import drive\n",
        "drive.mount('/content/drive')"
      ],
      "metadata": {
        "id": "eE-R9xjcF_Jk",
        "colab": {
          "base_uri": "https://localhost:8080/"
        },
        "outputId": "793e3bbb-f309-418d-be63-ec74a0cc7d63"
      },
      "execution_count": 1,
      "outputs": [
        {
          "output_type": "stream",
          "name": "stdout",
          "text": [
            "Mounted at /content/drive\n"
          ]
        }
      ]
    },
    {
      "cell_type": "markdown",
      "source": [],
      "metadata": {
        "id": "HH8IVfz_K4rw"
      }
    },
    {
      "cell_type": "markdown",
      "source": [
        "[link text](https://)# **Assignmen Dataframe to DF**\n",
        "\n",
        "> Add blockquote\n",
        "\n",
        "> Add blockquote\n",
        "\n",
        "> Add blockquote\n",
        "\n",
        "> Add blockquote\n",
        "\n",
        "\n",
        "\n",
        "\n",
        "\n",
        "\n",
        "\n"
      ],
      "metadata": {
        "id": "s-Jggduc9SOx"
      }
    },
    {
      "cell_type": "code",
      "source": [
        "#df = pd.read_csv(\"melb_data.csv\")\n",
        "# Try with wrong syntax that misses a quotation mark , it will give error,\n",
        "df = pd.read_csv(\"melb_data.csv\")"
      ],
      "metadata": {
        "id": "owmAF1-NX6d6"
      },
      "execution_count": 5,
      "outputs": []
    },
    {
      "cell_type": "markdown",
      "source": [
        "# **Overview of the data**"
      ],
      "metadata": {
        "id": "uL4CYm5-9xc_"
      }
    },
    {
      "cell_type": "code",
      "source": [
        "print(df.tail(5))  # Display first few rows"
      ],
      "metadata": {
        "id": "94fsZw7097_r",
        "colab": {
          "base_uri": "https://localhost:8080/"
        },
        "outputId": "c5434e94-0821-421b-c116-8de3d29b028b"
      },
      "execution_count": 6,
      "outputs": [
        {
          "output_type": "stream",
          "name": "stdout",
          "text": [
            "              Suburb        Address  Rooms Type      Price Method   SellerG  \\\n",
            "13575  Wheelers Hill   12 Strada Cr      4    h  1245000.0      S     Barry   \n",
            "13576   Williamstown  77 Merrett Dr      3    h  1031000.0     SP  Williams   \n",
            "13577   Williamstown    83 Power St      3    h  1170000.0      S     Raine   \n",
            "13578   Williamstown   96 Verdon St      4    h  2500000.0     PI   Sweeney   \n",
            "13579     Yarraville     6 Agnes St      4    h  1285000.0     SP   Village   \n",
            "\n",
            "             Date  Distance  Postcode  ...  Bathroom  Car  Landsize  \\\n",
            "13575  26/08/2017      16.7    3150.0  ...       2.0  2.0     652.0   \n",
            "13576  26/08/2017       6.8    3016.0  ...       2.0  2.0     333.0   \n",
            "13577  26/08/2017       6.8    3016.0  ...       2.0  4.0     436.0   \n",
            "13578  26/08/2017       6.8    3016.0  ...       1.0  5.0     866.0   \n",
            "13579  26/08/2017       6.3    3013.0  ...       1.0  1.0     362.0   \n",
            "\n",
            "       BuildingArea  YearBuilt  CouncilArea Lattitude  Longtitude  \\\n",
            "13575           NaN     1981.0          NaN -37.90562   145.16761   \n",
            "13576         133.0     1995.0          NaN -37.85927   144.87904   \n",
            "13577           NaN     1997.0          NaN -37.85274   144.88738   \n",
            "13578         157.0     1920.0          NaN -37.85908   144.89299   \n",
            "13579         112.0     1920.0          NaN -37.81188   144.88449   \n",
            "\n",
            "                       Regionname Propertycount  \n",
            "13575  South-Eastern Metropolitan        7392.0  \n",
            "13576        Western Metropolitan        6380.0  \n",
            "13577        Western Metropolitan        6380.0  \n",
            "13578        Western Metropolitan        6380.0  \n",
            "13579        Western Metropolitan        6543.0  \n",
            "\n",
            "[5 rows x 21 columns]\n"
          ]
        }
      ]
    },
    {
      "cell_type": "code",
      "source": [
        "\n",
        "print(df.info())  # Overview of dataset\n",
        "print(df.describe())  # Summary statistics\n"
      ],
      "metadata": {
        "id": "MZXEKQPz89v9",
        "colab": {
          "base_uri": "https://localhost:8080/"
        },
        "outputId": "d431e15d-0202-432a-82cb-ef9764cdb081"
      },
      "execution_count": null,
      "outputs": [
        {
          "output_type": "stream",
          "name": "stdout",
          "text": [
            "<class 'pandas.core.frame.DataFrame'>\n",
            "RangeIndex: 13580 entries, 0 to 13579\n",
            "Data columns (total 21 columns):\n",
            " #   Column         Non-Null Count  Dtype  \n",
            "---  ------         --------------  -----  \n",
            " 0   Suburb         13580 non-null  object \n",
            " 1   Address        13580 non-null  object \n",
            " 2   Rooms          13580 non-null  int64  \n",
            " 3   Type           13580 non-null  object \n",
            " 4   Price          13580 non-null  float64\n",
            " 5   Method         13580 non-null  object \n",
            " 6   SellerG        13580 non-null  object \n",
            " 7   Date           13580 non-null  object \n",
            " 8   Distance       13580 non-null  float64\n",
            " 9   Postcode       13580 non-null  float64\n",
            " 10  Bedroom2       13580 non-null  float64\n",
            " 11  Bathroom       13580 non-null  float64\n",
            " 12  Car            13518 non-null  float64\n",
            " 13  Landsize       13580 non-null  float64\n",
            " 14  BuildingArea   7130 non-null   float64\n",
            " 15  YearBuilt      8205 non-null   float64\n",
            " 16  CouncilArea    12211 non-null  object \n",
            " 17  Lattitude      13580 non-null  float64\n",
            " 18  Longtitude     13580 non-null  float64\n",
            " 19  Regionname     13580 non-null  object \n",
            " 20  Propertycount  13580 non-null  float64\n",
            "dtypes: float64(12), int64(1), object(8)\n",
            "memory usage: 2.2+ MB\n",
            "None\n",
            "              Rooms         Price      Distance      Postcode      Bedroom2  \\\n",
            "count  13580.000000  1.358000e+04  13580.000000  13580.000000  13580.000000   \n",
            "mean       2.937997  1.075684e+06     10.137776   3105.301915      2.914728   \n",
            "std        0.955748  6.393107e+05      5.868725     90.676964      0.965921   \n",
            "min        1.000000  8.500000e+04      0.000000   3000.000000      0.000000   \n",
            "25%        2.000000  6.500000e+05      6.100000   3044.000000      2.000000   \n",
            "50%        3.000000  9.030000e+05      9.200000   3084.000000      3.000000   \n",
            "75%        3.000000  1.330000e+06     13.000000   3148.000000      3.000000   \n",
            "max       10.000000  9.000000e+06     48.100000   3977.000000     20.000000   \n",
            "\n",
            "           Bathroom           Car       Landsize  BuildingArea    YearBuilt  \\\n",
            "count  13580.000000  13518.000000   13580.000000   7130.000000  8205.000000   \n",
            "mean       1.534242      1.610075     558.416127    151.967650  1964.684217   \n",
            "std        0.691712      0.962634    3990.669241    541.014538    37.273762   \n",
            "min        0.000000      0.000000       0.000000      0.000000  1196.000000   \n",
            "25%        1.000000      1.000000     177.000000     93.000000  1940.000000   \n",
            "50%        1.000000      2.000000     440.000000    126.000000  1970.000000   \n",
            "75%        2.000000      2.000000     651.000000    174.000000  1999.000000   \n",
            "max        8.000000     10.000000  433014.000000  44515.000000  2018.000000   \n",
            "\n",
            "          Lattitude    Longtitude  Propertycount  \n",
            "count  13580.000000  13580.000000   13580.000000  \n",
            "mean     -37.809203    144.995216    7454.417378  \n",
            "std        0.079260      0.103916    4378.581772  \n",
            "min      -38.182550    144.431810     249.000000  \n",
            "25%      -37.856822    144.929600    4380.000000  \n",
            "50%      -37.802355    145.000100    6555.000000  \n",
            "75%      -37.756400    145.058305   10331.000000  \n",
            "max      -37.408530    145.526350   21650.000000  \n"
          ]
        }
      ]
    },
    {
      "cell_type": "code",
      "source": [
        "print(df.shape) #Describes the rows and columns of the dataset"
      ],
      "metadata": {
        "colab": {
          "base_uri": "https://localhost:8080/"
        },
        "id": "0VIalBU2c5SK",
        "outputId": "da9350b4-daa6-4d27-a7d0-bb5f7414b987"
      },
      "execution_count": 39,
      "outputs": [
        {
          "output_type": "stream",
          "name": "stdout",
          "text": [
            "(13580, 23)\n"
          ]
        }
      ]
    },
    {
      "cell_type": "code",
      "source": [
        "df.iloc[5:11,2:]"
      ],
      "metadata": {
        "colab": {
          "base_uri": "https://localhost:8080/",
          "height": 362
        },
        "id": "yg5kDdL1dXfy",
        "outputId": "9938db02-5dd5-47a1-f516-e1af80195e11"
      },
      "execution_count": null,
      "outputs": [
        {
          "output_type": "execute_result",
          "data": {
            "text/plain": [
              "    Rooms Type      Price Method SellerG        Date  Distance  Postcode  \\\n",
              "5       2    h   941000.0      S  Jellis   7/05/2016       2.5    3067.0   \n",
              "6       3    h  1876000.0      S  Nelson   7/05/2016       2.5    3067.0   \n",
              "7       2    h  1636000.0      S  Nelson   8/10/2016       2.5    3067.0   \n",
              "8       1    u   300000.0      S  Biggin   8/10/2016       2.5    3067.0   \n",
              "9       2    h  1097000.0      S  Biggin   8/10/2016       2.5    3067.0   \n",
              "10      2    u   700000.0     VB  Jellis  12/11/2016       2.5    3067.0   \n",
              "\n",
              "    Bedroom2  Bathroom  Car  Landsize  BuildingArea  YearBuilt CouncilArea  \\\n",
              "5        2.0       1.0  0.0     181.0           NaN        NaN       Yarra   \n",
              "6        4.0       2.0  0.0     245.0         210.0     1910.0       Yarra   \n",
              "7        2.0       1.0  2.0     256.0         107.0     1890.0       Yarra   \n",
              "8        1.0       1.0  1.0       0.0           NaN        NaN       Yarra   \n",
              "9        3.0       1.0  2.0     220.0          75.0     1900.0       Yarra   \n",
              "10       2.0       2.0  1.0       0.0           NaN        NaN       Yarra   \n",
              "\n",
              "    Lattitude  Longtitude             Regionname  Propertycount  \n",
              "5    -37.8041    144.9953  Northern Metropolitan         4019.0  \n",
              "6    -37.8024    144.9993  Northern Metropolitan         4019.0  \n",
              "7    -37.8060    144.9954  Northern Metropolitan         4019.0  \n",
              "8    -37.8008    144.9973  Northern Metropolitan         4019.0  \n",
              "9    -37.8010    144.9989  Northern Metropolitan         4019.0  \n",
              "10   -37.8110    145.0067  Northern Metropolitan         4019.0  "
            ],
            "text/html": [
              "\n",
              "  <div id=\"df-eefbc474-e948-4496-a083-265310d93cab\" class=\"colab-df-container\">\n",
              "    <div>\n",
              "<style scoped>\n",
              "    .dataframe tbody tr th:only-of-type {\n",
              "        vertical-align: middle;\n",
              "    }\n",
              "\n",
              "    .dataframe tbody tr th {\n",
              "        vertical-align: top;\n",
              "    }\n",
              "\n",
              "    .dataframe thead th {\n",
              "        text-align: right;\n",
              "    }\n",
              "</style>\n",
              "<table border=\"1\" class=\"dataframe\">\n",
              "  <thead>\n",
              "    <tr style=\"text-align: right;\">\n",
              "      <th></th>\n",
              "      <th>Rooms</th>\n",
              "      <th>Type</th>\n",
              "      <th>Price</th>\n",
              "      <th>Method</th>\n",
              "      <th>SellerG</th>\n",
              "      <th>Date</th>\n",
              "      <th>Distance</th>\n",
              "      <th>Postcode</th>\n",
              "      <th>Bedroom2</th>\n",
              "      <th>Bathroom</th>\n",
              "      <th>Car</th>\n",
              "      <th>Landsize</th>\n",
              "      <th>BuildingArea</th>\n",
              "      <th>YearBuilt</th>\n",
              "      <th>CouncilArea</th>\n",
              "      <th>Lattitude</th>\n",
              "      <th>Longtitude</th>\n",
              "      <th>Regionname</th>\n",
              "      <th>Propertycount</th>\n",
              "    </tr>\n",
              "  </thead>\n",
              "  <tbody>\n",
              "    <tr>\n",
              "      <th>5</th>\n",
              "      <td>2</td>\n",
              "      <td>h</td>\n",
              "      <td>941000.0</td>\n",
              "      <td>S</td>\n",
              "      <td>Jellis</td>\n",
              "      <td>7/05/2016</td>\n",
              "      <td>2.5</td>\n",
              "      <td>3067.0</td>\n",
              "      <td>2.0</td>\n",
              "      <td>1.0</td>\n",
              "      <td>0.0</td>\n",
              "      <td>181.0</td>\n",
              "      <td>NaN</td>\n",
              "      <td>NaN</td>\n",
              "      <td>Yarra</td>\n",
              "      <td>-37.8041</td>\n",
              "      <td>144.9953</td>\n",
              "      <td>Northern Metropolitan</td>\n",
              "      <td>4019.0</td>\n",
              "    </tr>\n",
              "    <tr>\n",
              "      <th>6</th>\n",
              "      <td>3</td>\n",
              "      <td>h</td>\n",
              "      <td>1876000.0</td>\n",
              "      <td>S</td>\n",
              "      <td>Nelson</td>\n",
              "      <td>7/05/2016</td>\n",
              "      <td>2.5</td>\n",
              "      <td>3067.0</td>\n",
              "      <td>4.0</td>\n",
              "      <td>2.0</td>\n",
              "      <td>0.0</td>\n",
              "      <td>245.0</td>\n",
              "      <td>210.0</td>\n",
              "      <td>1910.0</td>\n",
              "      <td>Yarra</td>\n",
              "      <td>-37.8024</td>\n",
              "      <td>144.9993</td>\n",
              "      <td>Northern Metropolitan</td>\n",
              "      <td>4019.0</td>\n",
              "    </tr>\n",
              "    <tr>\n",
              "      <th>7</th>\n",
              "      <td>2</td>\n",
              "      <td>h</td>\n",
              "      <td>1636000.0</td>\n",
              "      <td>S</td>\n",
              "      <td>Nelson</td>\n",
              "      <td>8/10/2016</td>\n",
              "      <td>2.5</td>\n",
              "      <td>3067.0</td>\n",
              "      <td>2.0</td>\n",
              "      <td>1.0</td>\n",
              "      <td>2.0</td>\n",
              "      <td>256.0</td>\n",
              "      <td>107.0</td>\n",
              "      <td>1890.0</td>\n",
              "      <td>Yarra</td>\n",
              "      <td>-37.8060</td>\n",
              "      <td>144.9954</td>\n",
              "      <td>Northern Metropolitan</td>\n",
              "      <td>4019.0</td>\n",
              "    </tr>\n",
              "    <tr>\n",
              "      <th>8</th>\n",
              "      <td>1</td>\n",
              "      <td>u</td>\n",
              "      <td>300000.0</td>\n",
              "      <td>S</td>\n",
              "      <td>Biggin</td>\n",
              "      <td>8/10/2016</td>\n",
              "      <td>2.5</td>\n",
              "      <td>3067.0</td>\n",
              "      <td>1.0</td>\n",
              "      <td>1.0</td>\n",
              "      <td>1.0</td>\n",
              "      <td>0.0</td>\n",
              "      <td>NaN</td>\n",
              "      <td>NaN</td>\n",
              "      <td>Yarra</td>\n",
              "      <td>-37.8008</td>\n",
              "      <td>144.9973</td>\n",
              "      <td>Northern Metropolitan</td>\n",
              "      <td>4019.0</td>\n",
              "    </tr>\n",
              "    <tr>\n",
              "      <th>9</th>\n",
              "      <td>2</td>\n",
              "      <td>h</td>\n",
              "      <td>1097000.0</td>\n",
              "      <td>S</td>\n",
              "      <td>Biggin</td>\n",
              "      <td>8/10/2016</td>\n",
              "      <td>2.5</td>\n",
              "      <td>3067.0</td>\n",
              "      <td>3.0</td>\n",
              "      <td>1.0</td>\n",
              "      <td>2.0</td>\n",
              "      <td>220.0</td>\n",
              "      <td>75.0</td>\n",
              "      <td>1900.0</td>\n",
              "      <td>Yarra</td>\n",
              "      <td>-37.8010</td>\n",
              "      <td>144.9989</td>\n",
              "      <td>Northern Metropolitan</td>\n",
              "      <td>4019.0</td>\n",
              "    </tr>\n",
              "    <tr>\n",
              "      <th>10</th>\n",
              "      <td>2</td>\n",
              "      <td>u</td>\n",
              "      <td>700000.0</td>\n",
              "      <td>VB</td>\n",
              "      <td>Jellis</td>\n",
              "      <td>12/11/2016</td>\n",
              "      <td>2.5</td>\n",
              "      <td>3067.0</td>\n",
              "      <td>2.0</td>\n",
              "      <td>2.0</td>\n",
              "      <td>1.0</td>\n",
              "      <td>0.0</td>\n",
              "      <td>NaN</td>\n",
              "      <td>NaN</td>\n",
              "      <td>Yarra</td>\n",
              "      <td>-37.8110</td>\n",
              "      <td>145.0067</td>\n",
              "      <td>Northern Metropolitan</td>\n",
              "      <td>4019.0</td>\n",
              "    </tr>\n",
              "  </tbody>\n",
              "</table>\n",
              "</div>\n",
              "    <div class=\"colab-df-buttons\">\n",
              "\n",
              "  <div class=\"colab-df-container\">\n",
              "    <button class=\"colab-df-convert\" onclick=\"convertToInteractive('df-eefbc474-e948-4496-a083-265310d93cab')\"\n",
              "            title=\"Convert this dataframe to an interactive table.\"\n",
              "            style=\"display:none;\">\n",
              "\n",
              "  <svg xmlns=\"http://www.w3.org/2000/svg\" height=\"24px\" viewBox=\"0 -960 960 960\">\n",
              "    <path d=\"M120-120v-720h720v720H120Zm60-500h600v-160H180v160Zm220 220h160v-160H400v160Zm0 220h160v-160H400v160ZM180-400h160v-160H180v160Zm440 0h160v-160H620v160ZM180-180h160v-160H180v160Zm440 0h160v-160H620v160Z\"/>\n",
              "  </svg>\n",
              "    </button>\n",
              "\n",
              "  <style>\n",
              "    .colab-df-container {\n",
              "      display:flex;\n",
              "      gap: 12px;\n",
              "    }\n",
              "\n",
              "    .colab-df-convert {\n",
              "      background-color: #E8F0FE;\n",
              "      border: none;\n",
              "      border-radius: 50%;\n",
              "      cursor: pointer;\n",
              "      display: none;\n",
              "      fill: #1967D2;\n",
              "      height: 32px;\n",
              "      padding: 0 0 0 0;\n",
              "      width: 32px;\n",
              "    }\n",
              "\n",
              "    .colab-df-convert:hover {\n",
              "      background-color: #E2EBFA;\n",
              "      box-shadow: 0px 1px 2px rgba(60, 64, 67, 0.3), 0px 1px 3px 1px rgba(60, 64, 67, 0.15);\n",
              "      fill: #174EA6;\n",
              "    }\n",
              "\n",
              "    .colab-df-buttons div {\n",
              "      margin-bottom: 4px;\n",
              "    }\n",
              "\n",
              "    [theme=dark] .colab-df-convert {\n",
              "      background-color: #3B4455;\n",
              "      fill: #D2E3FC;\n",
              "    }\n",
              "\n",
              "    [theme=dark] .colab-df-convert:hover {\n",
              "      background-color: #434B5C;\n",
              "      box-shadow: 0px 1px 3px 1px rgba(0, 0, 0, 0.15);\n",
              "      filter: drop-shadow(0px 1px 2px rgba(0, 0, 0, 0.3));\n",
              "      fill: #FFFFFF;\n",
              "    }\n",
              "  </style>\n",
              "\n",
              "    <script>\n",
              "      const buttonEl =\n",
              "        document.querySelector('#df-eefbc474-e948-4496-a083-265310d93cab button.colab-df-convert');\n",
              "      buttonEl.style.display =\n",
              "        google.colab.kernel.accessAllowed ? 'block' : 'none';\n",
              "\n",
              "      async function convertToInteractive(key) {\n",
              "        const element = document.querySelector('#df-eefbc474-e948-4496-a083-265310d93cab');\n",
              "        const dataTable =\n",
              "          await google.colab.kernel.invokeFunction('convertToInteractive',\n",
              "                                                    [key], {});\n",
              "        if (!dataTable) return;\n",
              "\n",
              "        const docLinkHtml = 'Like what you see? Visit the ' +\n",
              "          '<a target=\"_blank\" href=https://colab.research.google.com/notebooks/data_table.ipynb>data table notebook</a>'\n",
              "          + ' to learn more about interactive tables.';\n",
              "        element.innerHTML = '';\n",
              "        dataTable['output_type'] = 'display_data';\n",
              "        await google.colab.output.renderOutput(dataTable, element);\n",
              "        const docLink = document.createElement('div');\n",
              "        docLink.innerHTML = docLinkHtml;\n",
              "        element.appendChild(docLink);\n",
              "      }\n",
              "    </script>\n",
              "  </div>\n",
              "\n",
              "\n",
              "<div id=\"df-f0b1fc3f-2a82-481e-974d-6db5601669b5\">\n",
              "  <button class=\"colab-df-quickchart\" onclick=\"quickchart('df-f0b1fc3f-2a82-481e-974d-6db5601669b5')\"\n",
              "            title=\"Suggest charts\"\n",
              "            style=\"display:none;\">\n",
              "\n",
              "<svg xmlns=\"http://www.w3.org/2000/svg\" height=\"24px\"viewBox=\"0 0 24 24\"\n",
              "     width=\"24px\">\n",
              "    <g>\n",
              "        <path d=\"M19 3H5c-1.1 0-2 .9-2 2v14c0 1.1.9 2 2 2h14c1.1 0 2-.9 2-2V5c0-1.1-.9-2-2-2zM9 17H7v-7h2v7zm4 0h-2V7h2v10zm4 0h-2v-4h2v4z\"/>\n",
              "    </g>\n",
              "</svg>\n",
              "  </button>\n",
              "\n",
              "<style>\n",
              "  .colab-df-quickchart {\n",
              "      --bg-color: #E8F0FE;\n",
              "      --fill-color: #1967D2;\n",
              "      --hover-bg-color: #E2EBFA;\n",
              "      --hover-fill-color: #174EA6;\n",
              "      --disabled-fill-color: #AAA;\n",
              "      --disabled-bg-color: #DDD;\n",
              "  }\n",
              "\n",
              "  [theme=dark] .colab-df-quickchart {\n",
              "      --bg-color: #3B4455;\n",
              "      --fill-color: #D2E3FC;\n",
              "      --hover-bg-color: #434B5C;\n",
              "      --hover-fill-color: #FFFFFF;\n",
              "      --disabled-bg-color: #3B4455;\n",
              "      --disabled-fill-color: #666;\n",
              "  }\n",
              "\n",
              "  .colab-df-quickchart {\n",
              "    background-color: var(--bg-color);\n",
              "    border: none;\n",
              "    border-radius: 50%;\n",
              "    cursor: pointer;\n",
              "    display: none;\n",
              "    fill: var(--fill-color);\n",
              "    height: 32px;\n",
              "    padding: 0;\n",
              "    width: 32px;\n",
              "  }\n",
              "\n",
              "  .colab-df-quickchart:hover {\n",
              "    background-color: var(--hover-bg-color);\n",
              "    box-shadow: 0 1px 2px rgba(60, 64, 67, 0.3), 0 1px 3px 1px rgba(60, 64, 67, 0.15);\n",
              "    fill: var(--button-hover-fill-color);\n",
              "  }\n",
              "\n",
              "  .colab-df-quickchart-complete:disabled,\n",
              "  .colab-df-quickchart-complete:disabled:hover {\n",
              "    background-color: var(--disabled-bg-color);\n",
              "    fill: var(--disabled-fill-color);\n",
              "    box-shadow: none;\n",
              "  }\n",
              "\n",
              "  .colab-df-spinner {\n",
              "    border: 2px solid var(--fill-color);\n",
              "    border-color: transparent;\n",
              "    border-bottom-color: var(--fill-color);\n",
              "    animation:\n",
              "      spin 1s steps(1) infinite;\n",
              "  }\n",
              "\n",
              "  @keyframes spin {\n",
              "    0% {\n",
              "      border-color: transparent;\n",
              "      border-bottom-color: var(--fill-color);\n",
              "      border-left-color: var(--fill-color);\n",
              "    }\n",
              "    20% {\n",
              "      border-color: transparent;\n",
              "      border-left-color: var(--fill-color);\n",
              "      border-top-color: var(--fill-color);\n",
              "    }\n",
              "    30% {\n",
              "      border-color: transparent;\n",
              "      border-left-color: var(--fill-color);\n",
              "      border-top-color: var(--fill-color);\n",
              "      border-right-color: var(--fill-color);\n",
              "    }\n",
              "    40% {\n",
              "      border-color: transparent;\n",
              "      border-right-color: var(--fill-color);\n",
              "      border-top-color: var(--fill-color);\n",
              "    }\n",
              "    60% {\n",
              "      border-color: transparent;\n",
              "      border-right-color: var(--fill-color);\n",
              "    }\n",
              "    80% {\n",
              "      border-color: transparent;\n",
              "      border-right-color: var(--fill-color);\n",
              "      border-bottom-color: var(--fill-color);\n",
              "    }\n",
              "    90% {\n",
              "      border-color: transparent;\n",
              "      border-bottom-color: var(--fill-color);\n",
              "    }\n",
              "  }\n",
              "</style>\n",
              "\n",
              "  <script>\n",
              "    async function quickchart(key) {\n",
              "      const quickchartButtonEl =\n",
              "        document.querySelector('#' + key + ' button');\n",
              "      quickchartButtonEl.disabled = true;  // To prevent multiple clicks.\n",
              "      quickchartButtonEl.classList.add('colab-df-spinner');\n",
              "      try {\n",
              "        const charts = await google.colab.kernel.invokeFunction(\n",
              "            'suggestCharts', [key], {});\n",
              "      } catch (error) {\n",
              "        console.error('Error during call to suggestCharts:', error);\n",
              "      }\n",
              "      quickchartButtonEl.classList.remove('colab-df-spinner');\n",
              "      quickchartButtonEl.classList.add('colab-df-quickchart-complete');\n",
              "    }\n",
              "    (() => {\n",
              "      let quickchartButtonEl =\n",
              "        document.querySelector('#df-f0b1fc3f-2a82-481e-974d-6db5601669b5 button');\n",
              "      quickchartButtonEl.style.display =\n",
              "        google.colab.kernel.accessAllowed ? 'block' : 'none';\n",
              "    })();\n",
              "  </script>\n",
              "</div>\n",
              "\n",
              "    </div>\n",
              "  </div>\n"
            ],
            "application/vnd.google.colaboratory.intrinsic+json": {
              "type": "dataframe",
              "repr_error": "0"
            }
          },
          "metadata": {},
          "execution_count": 10
        }
      ]
    },
    {
      "cell_type": "markdown",
      "source": [
        "# **Check for missing values in each column.**"
      ],
      "metadata": {
        "id": "amPgUJjZ-F8w"
      }
    },
    {
      "cell_type": "code",
      "source": [
        "df.loc[0:3,(\"Rooms\",\"Price\")]"
      ],
      "metadata": {
        "colab": {
          "base_uri": "https://localhost:8080/",
          "height": 175
        },
        "id": "0i2HcmSAeRiQ",
        "outputId": "b1fbc97a-b1b4-45b2-8c9a-26000e8081bf"
      },
      "execution_count": null,
      "outputs": [
        {
          "output_type": "execute_result",
          "data": {
            "text/plain": [
              "   Rooms      Price\n",
              "0      2  1480000.0\n",
              "1      2  1035000.0\n",
              "2      3  1465000.0\n",
              "3      3   850000.0"
            ],
            "text/html": [
              "\n",
              "  <div id=\"df-8dd119e0-35a0-40df-b9df-3888b601997f\" class=\"colab-df-container\">\n",
              "    <div>\n",
              "<style scoped>\n",
              "    .dataframe tbody tr th:only-of-type {\n",
              "        vertical-align: middle;\n",
              "    }\n",
              "\n",
              "    .dataframe tbody tr th {\n",
              "        vertical-align: top;\n",
              "    }\n",
              "\n",
              "    .dataframe thead th {\n",
              "        text-align: right;\n",
              "    }\n",
              "</style>\n",
              "<table border=\"1\" class=\"dataframe\">\n",
              "  <thead>\n",
              "    <tr style=\"text-align: right;\">\n",
              "      <th></th>\n",
              "      <th>Rooms</th>\n",
              "      <th>Price</th>\n",
              "    </tr>\n",
              "  </thead>\n",
              "  <tbody>\n",
              "    <tr>\n",
              "      <th>0</th>\n",
              "      <td>2</td>\n",
              "      <td>1480000.0</td>\n",
              "    </tr>\n",
              "    <tr>\n",
              "      <th>1</th>\n",
              "      <td>2</td>\n",
              "      <td>1035000.0</td>\n",
              "    </tr>\n",
              "    <tr>\n",
              "      <th>2</th>\n",
              "      <td>3</td>\n",
              "      <td>1465000.0</td>\n",
              "    </tr>\n",
              "    <tr>\n",
              "      <th>3</th>\n",
              "      <td>3</td>\n",
              "      <td>850000.0</td>\n",
              "    </tr>\n",
              "  </tbody>\n",
              "</table>\n",
              "</div>\n",
              "    <div class=\"colab-df-buttons\">\n",
              "\n",
              "  <div class=\"colab-df-container\">\n",
              "    <button class=\"colab-df-convert\" onclick=\"convertToInteractive('df-8dd119e0-35a0-40df-b9df-3888b601997f')\"\n",
              "            title=\"Convert this dataframe to an interactive table.\"\n",
              "            style=\"display:none;\">\n",
              "\n",
              "  <svg xmlns=\"http://www.w3.org/2000/svg\" height=\"24px\" viewBox=\"0 -960 960 960\">\n",
              "    <path d=\"M120-120v-720h720v720H120Zm60-500h600v-160H180v160Zm220 220h160v-160H400v160Zm0 220h160v-160H400v160ZM180-400h160v-160H180v160Zm440 0h160v-160H620v160ZM180-180h160v-160H180v160Zm440 0h160v-160H620v160Z\"/>\n",
              "  </svg>\n",
              "    </button>\n",
              "\n",
              "  <style>\n",
              "    .colab-df-container {\n",
              "      display:flex;\n",
              "      gap: 12px;\n",
              "    }\n",
              "\n",
              "    .colab-df-convert {\n",
              "      background-color: #E8F0FE;\n",
              "      border: none;\n",
              "      border-radius: 50%;\n",
              "      cursor: pointer;\n",
              "      display: none;\n",
              "      fill: #1967D2;\n",
              "      height: 32px;\n",
              "      padding: 0 0 0 0;\n",
              "      width: 32px;\n",
              "    }\n",
              "\n",
              "    .colab-df-convert:hover {\n",
              "      background-color: #E2EBFA;\n",
              "      box-shadow: 0px 1px 2px rgba(60, 64, 67, 0.3), 0px 1px 3px 1px rgba(60, 64, 67, 0.15);\n",
              "      fill: #174EA6;\n",
              "    }\n",
              "\n",
              "    .colab-df-buttons div {\n",
              "      margin-bottom: 4px;\n",
              "    }\n",
              "\n",
              "    [theme=dark] .colab-df-convert {\n",
              "      background-color: #3B4455;\n",
              "      fill: #D2E3FC;\n",
              "    }\n",
              "\n",
              "    [theme=dark] .colab-df-convert:hover {\n",
              "      background-color: #434B5C;\n",
              "      box-shadow: 0px 1px 3px 1px rgba(0, 0, 0, 0.15);\n",
              "      filter: drop-shadow(0px 1px 2px rgba(0, 0, 0, 0.3));\n",
              "      fill: #FFFFFF;\n",
              "    }\n",
              "  </style>\n",
              "\n",
              "    <script>\n",
              "      const buttonEl =\n",
              "        document.querySelector('#df-8dd119e0-35a0-40df-b9df-3888b601997f button.colab-df-convert');\n",
              "      buttonEl.style.display =\n",
              "        google.colab.kernel.accessAllowed ? 'block' : 'none';\n",
              "\n",
              "      async function convertToInteractive(key) {\n",
              "        const element = document.querySelector('#df-8dd119e0-35a0-40df-b9df-3888b601997f');\n",
              "        const dataTable =\n",
              "          await google.colab.kernel.invokeFunction('convertToInteractive',\n",
              "                                                    [key], {});\n",
              "        if (!dataTable) return;\n",
              "\n",
              "        const docLinkHtml = 'Like what you see? Visit the ' +\n",
              "          '<a target=\"_blank\" href=https://colab.research.google.com/notebooks/data_table.ipynb>data table notebook</a>'\n",
              "          + ' to learn more about interactive tables.';\n",
              "        element.innerHTML = '';\n",
              "        dataTable['output_type'] = 'display_data';\n",
              "        await google.colab.output.renderOutput(dataTable, element);\n",
              "        const docLink = document.createElement('div');\n",
              "        docLink.innerHTML = docLinkHtml;\n",
              "        element.appendChild(docLink);\n",
              "      }\n",
              "    </script>\n",
              "  </div>\n",
              "\n",
              "\n",
              "<div id=\"df-0c46a39d-3ba1-4c70-87c0-b61e9e92619c\">\n",
              "  <button class=\"colab-df-quickchart\" onclick=\"quickchart('df-0c46a39d-3ba1-4c70-87c0-b61e9e92619c')\"\n",
              "            title=\"Suggest charts\"\n",
              "            style=\"display:none;\">\n",
              "\n",
              "<svg xmlns=\"http://www.w3.org/2000/svg\" height=\"24px\"viewBox=\"0 0 24 24\"\n",
              "     width=\"24px\">\n",
              "    <g>\n",
              "        <path d=\"M19 3H5c-1.1 0-2 .9-2 2v14c0 1.1.9 2 2 2h14c1.1 0 2-.9 2-2V5c0-1.1-.9-2-2-2zM9 17H7v-7h2v7zm4 0h-2V7h2v10zm4 0h-2v-4h2v4z\"/>\n",
              "    </g>\n",
              "</svg>\n",
              "  </button>\n",
              "\n",
              "<style>\n",
              "  .colab-df-quickchart {\n",
              "      --bg-color: #E8F0FE;\n",
              "      --fill-color: #1967D2;\n",
              "      --hover-bg-color: #E2EBFA;\n",
              "      --hover-fill-color: #174EA6;\n",
              "      --disabled-fill-color: #AAA;\n",
              "      --disabled-bg-color: #DDD;\n",
              "  }\n",
              "\n",
              "  [theme=dark] .colab-df-quickchart {\n",
              "      --bg-color: #3B4455;\n",
              "      --fill-color: #D2E3FC;\n",
              "      --hover-bg-color: #434B5C;\n",
              "      --hover-fill-color: #FFFFFF;\n",
              "      --disabled-bg-color: #3B4455;\n",
              "      --disabled-fill-color: #666;\n",
              "  }\n",
              "\n",
              "  .colab-df-quickchart {\n",
              "    background-color: var(--bg-color);\n",
              "    border: none;\n",
              "    border-radius: 50%;\n",
              "    cursor: pointer;\n",
              "    display: none;\n",
              "    fill: var(--fill-color);\n",
              "    height: 32px;\n",
              "    padding: 0;\n",
              "    width: 32px;\n",
              "  }\n",
              "\n",
              "  .colab-df-quickchart:hover {\n",
              "    background-color: var(--hover-bg-color);\n",
              "    box-shadow: 0 1px 2px rgba(60, 64, 67, 0.3), 0 1px 3px 1px rgba(60, 64, 67, 0.15);\n",
              "    fill: var(--button-hover-fill-color);\n",
              "  }\n",
              "\n",
              "  .colab-df-quickchart-complete:disabled,\n",
              "  .colab-df-quickchart-complete:disabled:hover {\n",
              "    background-color: var(--disabled-bg-color);\n",
              "    fill: var(--disabled-fill-color);\n",
              "    box-shadow: none;\n",
              "  }\n",
              "\n",
              "  .colab-df-spinner {\n",
              "    border: 2px solid var(--fill-color);\n",
              "    border-color: transparent;\n",
              "    border-bottom-color: var(--fill-color);\n",
              "    animation:\n",
              "      spin 1s steps(1) infinite;\n",
              "  }\n",
              "\n",
              "  @keyframes spin {\n",
              "    0% {\n",
              "      border-color: transparent;\n",
              "      border-bottom-color: var(--fill-color);\n",
              "      border-left-color: var(--fill-color);\n",
              "    }\n",
              "    20% {\n",
              "      border-color: transparent;\n",
              "      border-left-color: var(--fill-color);\n",
              "      border-top-color: var(--fill-color);\n",
              "    }\n",
              "    30% {\n",
              "      border-color: transparent;\n",
              "      border-left-color: var(--fill-color);\n",
              "      border-top-color: var(--fill-color);\n",
              "      border-right-color: var(--fill-color);\n",
              "    }\n",
              "    40% {\n",
              "      border-color: transparent;\n",
              "      border-right-color: var(--fill-color);\n",
              "      border-top-color: var(--fill-color);\n",
              "    }\n",
              "    60% {\n",
              "      border-color: transparent;\n",
              "      border-right-color: var(--fill-color);\n",
              "    }\n",
              "    80% {\n",
              "      border-color: transparent;\n",
              "      border-right-color: var(--fill-color);\n",
              "      border-bottom-color: var(--fill-color);\n",
              "    }\n",
              "    90% {\n",
              "      border-color: transparent;\n",
              "      border-bottom-color: var(--fill-color);\n",
              "    }\n",
              "  }\n",
              "</style>\n",
              "\n",
              "  <script>\n",
              "    async function quickchart(key) {\n",
              "      const quickchartButtonEl =\n",
              "        document.querySelector('#' + key + ' button');\n",
              "      quickchartButtonEl.disabled = true;  // To prevent multiple clicks.\n",
              "      quickchartButtonEl.classList.add('colab-df-spinner');\n",
              "      try {\n",
              "        const charts = await google.colab.kernel.invokeFunction(\n",
              "            'suggestCharts', [key], {});\n",
              "      } catch (error) {\n",
              "        console.error('Error during call to suggestCharts:', error);\n",
              "      }\n",
              "      quickchartButtonEl.classList.remove('colab-df-spinner');\n",
              "      quickchartButtonEl.classList.add('colab-df-quickchart-complete');\n",
              "    }\n",
              "    (() => {\n",
              "      let quickchartButtonEl =\n",
              "        document.querySelector('#df-0c46a39d-3ba1-4c70-87c0-b61e9e92619c button');\n",
              "      quickchartButtonEl.style.display =\n",
              "        google.colab.kernel.accessAllowed ? 'block' : 'none';\n",
              "    })();\n",
              "  </script>\n",
              "</div>\n",
              "\n",
              "    </div>\n",
              "  </div>\n"
            ],
            "application/vnd.google.colaboratory.intrinsic+json": {
              "type": "dataframe",
              "summary": "{\n  \"name\": \"df\",\n  \"rows\": 4,\n  \"fields\": [\n    {\n      \"column\": \"Rooms\",\n      \"properties\": {\n        \"dtype\": \"number\",\n        \"std\": 0,\n        \"min\": 2,\n        \"max\": 3,\n        \"num_unique_values\": 2,\n        \"samples\": [\n          3,\n          2\n        ],\n        \"semantic_type\": \"\",\n        \"description\": \"\"\n      }\n    },\n    {\n      \"column\": \"Price\",\n      \"properties\": {\n        \"dtype\": \"number\",\n        \"std\": 315238.0053229623,\n        \"min\": 850000.0,\n        \"max\": 1480000.0,\n        \"num_unique_values\": 4,\n        \"samples\": [\n          1035000.0,\n          850000.0\n        ],\n        \"semantic_type\": \"\",\n        \"description\": \"\"\n      }\n    }\n  ]\n}"
            }
          },
          "metadata": {},
          "execution_count": 11
        }
      ]
    },
    {
      "cell_type": "code",
      "source": [
        "print(df[\"BuildingArea\"].isna().sum())"
      ],
      "metadata": {
        "id": "22L5vxk5-MAM",
        "colab": {
          "base_uri": "https://localhost:8080/"
        },
        "outputId": "be17cb9a-c2bd-4e19-89e0-9d7117435707"
      },
      "execution_count": 40,
      "outputs": [
        {
          "output_type": "stream",
          "name": "stdout",
          "text": [
            "0\n"
          ]
        }
      ]
    },
    {
      "cell_type": "markdown",
      "source": [
        "**Identify categorical and numerical columns.**"
      ],
      "metadata": {
        "id": "U7h8nD20-iZP"
      }
    },
    {
      "cell_type": "code",
      "source": [
        "print(df.dtypes)"
      ],
      "metadata": {
        "id": "6htL4SgS-pDv",
        "colab": {
          "base_uri": "https://localhost:8080/"
        },
        "outputId": "e8524617-4b86-4e50-deea-b9b67a2868d6"
      },
      "execution_count": null,
      "outputs": [
        {
          "output_type": "stream",
          "name": "stdout",
          "text": [
            "Suburb            object\n",
            "Address           object\n",
            "Rooms              int64\n",
            "Type              object\n",
            "Price            float64\n",
            "Method            object\n",
            "SellerG           object\n",
            "Date              object\n",
            "Distance         float64\n",
            "Postcode         float64\n",
            "Bedroom2         float64\n",
            "Bathroom         float64\n",
            "Car              float64\n",
            "Landsize         float64\n",
            "BuildingArea     float64\n",
            "YearBuilt        float64\n",
            "CouncilArea       object\n",
            "Lattitude        float64\n",
            "Longtitude       float64\n",
            "Regionname        object\n",
            "Propertycount    float64\n",
            "dtype: object\n"
          ]
        }
      ]
    },
    {
      "cell_type": "markdown",
      "source": [
        "# You have done the first set of activities Welldone  :**Expected Learning Outcome: By now, the students should understand the structure of the dataset, recognize missing values, and differentiate between categorical and numerical data.** bold text bold text"
      ],
      "metadata": {
        "id": "D3uzali0-w5B"
      }
    },
    {
      "cell_type": "markdown",
      "source": [
        "## **Activity 2: Handling Missing Values (45 min)**\n",
        "\n",
        "Goal: Learn different techniques to handle missing data in a dataset.\n",
        "\n",
        "---\n",
        "\n"
      ],
      "metadata": {
        "id": "qo4Db7Qo-90n"
      }
    },
    {
      "cell_type": "code",
      "source": [
        "#\tDrop rows with missing values and observe the changes.\n",
        "df_cleaned = df.dropna() #CLEANING DATA\n",
        "print(df_cleaned.info()) #FINDING INFO OF CLEAN DATA"
      ],
      "metadata": {
        "id": "UsARsDqS_j6q",
        "colab": {
          "base_uri": "https://localhost:8080/"
        },
        "outputId": "99a28649-f242-490e-85bc-4e5fccba5c2b"
      },
      "execution_count": null,
      "outputs": [
        {
          "output_type": "stream",
          "name": "stdout",
          "text": [
            "<class 'pandas.core.frame.DataFrame'>\n",
            "Index: 6196 entries, 1 to 12212\n",
            "Data columns (total 21 columns):\n",
            " #   Column         Non-Null Count  Dtype  \n",
            "---  ------         --------------  -----  \n",
            " 0   Suburb         6196 non-null   object \n",
            " 1   Address        6196 non-null   object \n",
            " 2   Rooms          6196 non-null   int64  \n",
            " 3   Type           6196 non-null   object \n",
            " 4   Price          6196 non-null   float64\n",
            " 5   Method         6196 non-null   object \n",
            " 6   SellerG        6196 non-null   object \n",
            " 7   Date           6196 non-null   object \n",
            " 8   Distance       6196 non-null   float64\n",
            " 9   Postcode       6196 non-null   float64\n",
            " 10  Bedroom2       6196 non-null   float64\n",
            " 11  Bathroom       6196 non-null   float64\n",
            " 12  Car            6196 non-null   float64\n",
            " 13  Landsize       6196 non-null   float64\n",
            " 14  BuildingArea   6196 non-null   float64\n",
            " 15  YearBuilt      6196 non-null   float64\n",
            " 16  CouncilArea    6196 non-null   object \n",
            " 17  Lattitude      6196 non-null   float64\n",
            " 18  Longtitude     6196 non-null   float64\n",
            " 19  Regionname     6196 non-null   object \n",
            " 20  Propertycount  6196 non-null   float64\n",
            "dtypes: float64(12), int64(1), object(8)\n",
            "memory usage: 1.0+ MB\n",
            "None\n"
          ]
        }
      ]
    },
    {
      "cell_type": "code",
      "source": [
        "# Fill missing numerical values with the column mean/median.\n",
        "df[\"Car\"].fillna(df[\"Car\"].mean(), inplace=True)"
      ],
      "metadata": {
        "id": "QVeRJk-U_vaF",
        "colab": {
          "base_uri": "https://localhost:8080/"
        },
        "outputId": "cbc3d028-626a-4193-c3e7-44e593af29a3"
      },
      "execution_count": 41,
      "outputs": [
        {
          "output_type": "stream",
          "name": "stderr",
          "text": [
            "<ipython-input-41-a813652945b6>:2: FutureWarning: A value is trying to be set on a copy of a DataFrame or Series through chained assignment using an inplace method.\n",
            "The behavior will change in pandas 3.0. This inplace method will never work because the intermediate object on which we are setting values always behaves as a copy.\n",
            "\n",
            "For example, when doing 'df[col].method(value, inplace=True)', try using 'df.method({col: value}, inplace=True)' or df[col] = df[col].method(value) instead, to perform the operation inplace on the original object.\n",
            "\n",
            "\n",
            "  df[\"Car\"].fillna(df[\"Car\"].mean(), inplace=True)\n"
          ]
        }
      ]
    },
    {
      "cell_type": "code",
      "source": [
        "df_cleaned = df.dropna()\n",
        "df_cleaned.info()\n",
        "df.dropna(inplace = True)\n",
        "df.info()"
      ],
      "metadata": {
        "id": "ym6GTtMmXmEn"
      },
      "execution_count": null,
      "outputs": []
    },
    {
      "cell_type": "code",
      "source": [
        "#Fill missing categorical values with the mode or a placeholder value.\n",
        "df[\"Car\"].fillna(3, inplace=True)\n"
      ],
      "metadata": {
        "id": "Hhboz3Tn_5Ar",
        "colab": {
          "base_uri": "https://localhost:8080/"
        },
        "outputId": "edd42c42-5fd7-4301-b107-066fead797b6"
      },
      "execution_count": null,
      "outputs": [
        {
          "output_type": "stream",
          "name": "stderr",
          "text": [
            "<ipython-input-14-ef7134cd445f>:2: FutureWarning: A value is trying to be set on a copy of a DataFrame or Series through chained assignment using an inplace method.\n",
            "The behavior will change in pandas 3.0. This inplace method will never work because the intermediate object on which we are setting values always behaves as a copy.\n",
            "\n",
            "For example, when doing 'df[col].method(value, inplace=True)', try using 'df.method({col: value}, inplace=True)' or df[col] = df[col].method(value) instead, to perform the operation inplace on the original object.\n",
            "\n",
            "\n",
            "  df[\"Car\"].fillna(3, inplace=True)\n"
          ]
        }
      ]
    },
    {
      "cell_type": "markdown",
      "source": [
        "**Now , Compare the dataset before and after handling missing values. Explain what are the changes. How do it affects the data quality**"
      ],
      "metadata": {
        "id": "ljXBXYnLAJ-2"
      }
    },
    {
      "cell_type": "markdown",
      "source": [],
      "metadata": {
        "id": "8T_EWCjgAo6f"
      }
    },
    {
      "cell_type": "markdown",
      "source": [
        "## **Activity 3: Indexing and Selecting Data (30 min)**\n",
        "\n",
        "Goal: Learn different ways to access and manipulate data using indexing."
      ],
      "metadata": {
        "id": "dLPp0rx_AuI0"
      }
    },
    {
      "cell_type": "code",
      "source": [
        "#Access specific columns\n",
        "print(df[\"Price\"])"
      ],
      "metadata": {
        "id": "QBxGI6QjBDRy",
        "colab": {
          "base_uri": "https://localhost:8080/"
        },
        "outputId": "9507e04f-9f70-4b35-bf2c-25d9ddf86d7b"
      },
      "execution_count": null,
      "outputs": [
        {
          "output_type": "stream",
          "name": "stdout",
          "text": [
            "0        1480000.0\n",
            "1        1035000.0\n",
            "2        1465000.0\n",
            "3         850000.0\n",
            "4        1600000.0\n",
            "           ...    \n",
            "13575    1245000.0\n",
            "13576    1031000.0\n",
            "13577    1170000.0\n",
            "13578    2500000.0\n",
            "13579    1285000.0\n",
            "Name: Price, Length: 13580, dtype: float64\n"
          ]
        }
      ]
    },
    {
      "cell_type": "code",
      "source": [
        "#Use .loc[] for label-based selection\n",
        "print(df.loc[10, [\"Price\", \"Suburb\", \"Car\", \"Postcode\"]])\n"
      ],
      "metadata": {
        "id": "0m7GyM1oBKrn",
        "colab": {
          "base_uri": "https://localhost:8080/"
        },
        "outputId": "7522a6dd-04e5-477f-86dc-618e10ccad05"
      },
      "execution_count": null,
      "outputs": [
        {
          "output_type": "stream",
          "name": "stdout",
          "text": [
            "Price         700000.0\n",
            "Suburb      Abbotsford\n",
            "Car                1.0\n",
            "Postcode        3067.0\n",
            "Name: 10, dtype: object\n"
          ]
        }
      ]
    },
    {
      "cell_type": "code",
      "source": [
        "#Use .iloc[] for position-based selection\n",
        "print(df.iloc[5:10, 1:4])  # Selecting specific rows and columns\n"
      ],
      "metadata": {
        "id": "sRRNAze5BTbZ",
        "colab": {
          "base_uri": "https://localhost:8080/"
        },
        "outputId": "4e537db3-6fb8-49d0-f866-00faf210c819"
      },
      "execution_count": null,
      "outputs": [
        {
          "output_type": "stream",
          "name": "stdout",
          "text": [
            "              Address  Rooms Type\n",
            "5      129 Charles St      2    h\n",
            "6        124 Yarra St      3    h\n",
            "7       98 Charles St      2    h\n",
            "8  6/241 Nicholson St      1    u\n",
            "9       10 Valiant St      2    h\n"
          ]
        }
      ]
    },
    {
      "cell_type": "code",
      "source": [
        "print(df.iloc[:5, :4])\n",
        "print(df.loc[9, [\"Price\"]])\n",
        "print(df.loc[:, [\"Suburb\", \"Rooms\"]])\n",
        "print(df.loc[:, df.columns])"
      ],
      "metadata": {
        "colab": {
          "base_uri": "https://localhost:8080/"
        },
        "id": "iODUy8I0YQhj",
        "outputId": "ffb4dd5f-eb50-49dc-dbdc-26cd14b480ce"
      },
      "execution_count": 43,
      "outputs": [
        {
          "output_type": "stream",
          "name": "stdout",
          "text": [
            "       Suburb           Address  Rooms Type\n",
            "0  Abbotsford      85 Turner St      2    h\n",
            "1  Abbotsford   25 Bloomburg St      2    h\n",
            "2  Abbotsford      5 Charles St      3    h\n",
            "3  Abbotsford  40 Federation La      3    h\n",
            "4  Abbotsford       55a Park St      4    h\n",
            "Price    1097000.0\n",
            "Name: 9, dtype: object\n",
            "              Suburb  Rooms\n",
            "0         Abbotsford      2\n",
            "1         Abbotsford      2\n",
            "2         Abbotsford      3\n",
            "3         Abbotsford      3\n",
            "4         Abbotsford      4\n",
            "...              ...    ...\n",
            "13575  Wheelers Hill      4\n",
            "13576   Williamstown      3\n",
            "13577   Williamstown      3\n",
            "13578   Williamstown      4\n",
            "13579     Yarraville      4\n",
            "\n",
            "[13580 rows x 2 columns]\n",
            "              Suburb           Address  Rooms Type      Price Method  \\\n",
            "0         Abbotsford      85 Turner St      2    h  1480000.0      S   \n",
            "1         Abbotsford   25 Bloomburg St      2    h  1035000.0      S   \n",
            "2         Abbotsford      5 Charles St      3    h  1465000.0     SP   \n",
            "3         Abbotsford  40 Federation La      3    h   850000.0     PI   \n",
            "4         Abbotsford       55a Park St      4    h  1600000.0     VB   \n",
            "...              ...               ...    ...  ...        ...    ...   \n",
            "13575  Wheelers Hill      12 Strada Cr      4    h  1245000.0      S   \n",
            "13576   Williamstown     77 Merrett Dr      3    h  1031000.0     SP   \n",
            "13577   Williamstown       83 Power St      3    h  1170000.0      S   \n",
            "13578   Williamstown      96 Verdon St      4    h  2500000.0     PI   \n",
            "13579     Yarraville        6 Agnes St      4    h  1285000.0     SP   \n",
            "\n",
            "        SellerG       Date  Distance  Postcode  ...  Landsize  BuildingArea  \\\n",
            "0        Biggin 2016-12-03       2.5    3067.0  ...     202.0         126.0   \n",
            "1        Biggin 2016-02-04       2.5    3067.0  ...     156.0          79.0   \n",
            "2        Biggin 2017-03-04       2.5    3067.0  ...     134.0         150.0   \n",
            "3        Biggin 2017-03-04       2.5    3067.0  ...      94.0         126.0   \n",
            "4        Nelson 2016-06-04       2.5    3067.0  ...     120.0         142.0   \n",
            "...         ...        ...       ...       ...  ...       ...           ...   \n",
            "13575     Barry 2017-08-26      16.7    3150.0  ...     652.0         126.0   \n",
            "13576  Williams 2017-08-26       6.8    3016.0  ...     333.0         133.0   \n",
            "13577     Raine 2017-08-26       6.8    3016.0  ...     436.0         126.0   \n",
            "13578   Sweeney 2017-08-26       6.8    3016.0  ...     866.0         157.0   \n",
            "13579   Village 2017-08-26       6.3    3013.0  ...     362.0         112.0   \n",
            "\n",
            "       YearBuilt  CouncilArea  Lattitude  Longtitude  \\\n",
            "0         1970.0        Yarra  -37.79960   144.99840   \n",
            "1         1900.0        Yarra  -37.80790   144.99340   \n",
            "2         1900.0        Yarra  -37.80930   144.99440   \n",
            "3         1970.0        Yarra  -37.79690   144.99690   \n",
            "4         2014.0        Yarra  -37.80720   144.99410   \n",
            "...          ...          ...        ...         ...   \n",
            "13575     1981.0     Moreland  -37.90562   145.16761   \n",
            "13576     1995.0     Moreland  -37.85927   144.87904   \n",
            "13577     1997.0     Moreland  -37.85274   144.88738   \n",
            "13578     1920.0     Moreland  -37.85908   144.89299   \n",
            "13579     1920.0     Moreland  -37.81188   144.88449   \n",
            "\n",
            "                       Regionname  Propertycount  Price_per_Room Year_Sold  \n",
            "0           Northern Metropolitan         4019.0   740000.000000      2016  \n",
            "1           Northern Metropolitan         4019.0   517500.000000      2016  \n",
            "2           Northern Metropolitan         4019.0   488333.333333      2017  \n",
            "3           Northern Metropolitan         4019.0   283333.333333      2017  \n",
            "4           Northern Metropolitan         4019.0   400000.000000      2016  \n",
            "...                           ...            ...             ...       ...  \n",
            "13575  South-Eastern Metropolitan         7392.0   311250.000000      2017  \n",
            "13576        Western Metropolitan         6380.0   343666.666667      2017  \n",
            "13577        Western Metropolitan         6380.0   390000.000000      2017  \n",
            "13578        Western Metropolitan         6380.0   625000.000000      2017  \n",
            "13579        Western Metropolitan         6543.0   321250.000000      2017  \n",
            "\n",
            "[13580 rows x 23 columns]\n"
          ]
        }
      ]
    },
    {
      "cell_type": "markdown",
      "source": [
        "**Student challenge**\n",
        "Now write commands for the following tasks\n",
        "1. Select and print the first 5 rows and the first 3 columns using .iloc[].\n",
        "2. Retrieve the value of \"Price\" for the 10th row (index 9) using .iloc[].\n",
        "# 3. Extract all rows but only the \"Suburb\" and \"Rooms\" columns using .iloc[]."
      ],
      "metadata": {
        "id": "2ZTY5xzHB29-"
      }
    },
    {
      "cell_type": "code",
      "source": [
        "#ONLY FOR instructor\n",
        "print(df.iloc[:5, :3])\n",
        "\n"
      ],
      "metadata": {
        "id": "RtdJl1rCCNUt",
        "colab": {
          "base_uri": "https://localhost:8080/"
        },
        "outputId": "4c71c72d-9530-4f17-92b9-e5f30b52fe0c"
      },
      "execution_count": null,
      "outputs": [
        {
          "output_type": "stream",
          "name": "stdout",
          "text": [
            "       Suburb           Address  Rooms\n",
            "0  Abbotsford      85 Turner St      2\n",
            "1  Abbotsford   25 Bloomburg St      2\n",
            "2  Abbotsford      5 Charles St      3\n",
            "3  Abbotsford  40 Federation La      3\n",
            "4  Abbotsford       55a Park St      4\n"
          ]
        }
      ]
    },
    {
      "cell_type": "code",
      "source": [
        "#ONLY FOR instructor\n",
        "\n",
        "print(df.iloc[9, df.columns.get_loc(\"Price\")])\n"
      ],
      "metadata": {
        "id": "C567KDFfC1gO",
        "colab": {
          "base_uri": "https://localhost:8080/"
        },
        "outputId": "1ba44114-cd80-4d78-e133-11e08c01910d"
      },
      "execution_count": null,
      "outputs": [
        {
          "output_type": "stream",
          "name": "stdout",
          "text": [
            "1097000.0\n"
          ]
        }
      ]
    },
    {
      "cell_type": "code",
      "source": [
        "#ONLY FOR instructor\n",
        "\n",
        "print(df.iloc[:, [df.columns.get_loc(\"Suburb\"), df.columns.get_loc(\"Rooms\")]])\n"
      ],
      "metadata": {
        "id": "yKQjO-0pC3EF",
        "colab": {
          "base_uri": "https://localhost:8080/"
        },
        "outputId": "b2a31607-0dbe-4a4d-a8b8-dd39c5e3999d"
      },
      "execution_count": null,
      "outputs": [
        {
          "output_type": "stream",
          "name": "stdout",
          "text": [
            "              Suburb  Rooms\n",
            "0         Abbotsford      2\n",
            "1         Abbotsford      2\n",
            "2         Abbotsford      3\n",
            "3         Abbotsford      3\n",
            "4         Abbotsford      4\n",
            "...              ...    ...\n",
            "13575  Wheelers Hill      4\n",
            "13576   Williamstown      3\n",
            "13577   Williamstown      3\n",
            "13578   Williamstown      4\n",
            "13579     Yarraville      4\n",
            "\n",
            "[13580 rows x 2 columns]\n"
          ]
        }
      ]
    },
    {
      "cell_type": "markdown",
      "source": [
        "**Filter properties with a price above a given threshold**"
      ],
      "metadata": {
        "id": "h44v_NozDEhh"
      }
    },
    {
      "cell_type": "code",
      "source": [
        "high_price = df[df[\"Price\"] > 1600000]\n",
        "print(high_price.head())\n",
        "\n"
      ],
      "metadata": {
        "id": "xH9glPXyDKJh",
        "colab": {
          "base_uri": "https://localhost:8080/"
        },
        "outputId": "ea15197c-8533-4926-b46d-51c66a9eee77"
      },
      "execution_count": null,
      "outputs": [
        {
          "output_type": "stream",
          "name": "stdout",
          "text": [
            "         Suburb               Address  Rooms Type      Price Method   SellerG  \\\n",
            "6    Abbotsford          124 Yarra St      3    h  1876000.0      S    Nelson   \n",
            "7    Abbotsford         98 Charles St      2    h  1636000.0      S    Nelson   \n",
            "80  Albert Park  112 Beaconsfield Pde      3    h  2850000.0     PI    Buxton   \n",
            "81  Albert Park          94 Graham St      3    h  1850000.0      S      Greg   \n",
            "85  Albert Park     104 Richardson St      4    h  2300000.0      S  Marshall   \n",
            "\n",
            "         Date  Distance  Postcode  ...  Bathroom  Car  Landsize  BuildingArea  \\\n",
            "6   7/05/2016       2.5    3067.0  ...       2.0  0.0     245.0         210.0   \n",
            "7   8/10/2016       2.5    3067.0  ...       1.0  2.0     256.0         107.0   \n",
            "80  4/03/2017       3.3    3206.0  ...       2.0  0.0     211.0         198.0   \n",
            "81  4/03/2017       3.3    3206.0  ...       2.0  0.0     128.0         133.0   \n",
            "85  7/05/2016       3.3    3206.0  ...       2.0  1.0     153.0         180.0   \n",
            "\n",
            "    YearBuilt   CouncilArea Lattitude  Longtitude             Regionname  \\\n",
            "6      1910.0         Yarra  -37.8024    144.9993  Northern Metropolitan   \n",
            "7      1890.0         Yarra  -37.8060    144.9954  Northern Metropolitan   \n",
            "80     1890.0  Port Phillip  -37.8481    144.9499  Southern Metropolitan   \n",
            "81     1890.0  Port Phillip  -37.8452    144.9488  Southern Metropolitan   \n",
            "85     1880.0  Port Phillip  -37.8447    144.9523  Southern Metropolitan   \n",
            "\n",
            "   Propertycount  \n",
            "6         4019.0  \n",
            "7         4019.0  \n",
            "80        3280.0  \n",
            "81        3280.0  \n",
            "85        3280.0  \n",
            "\n",
            "[5 rows x 21 columns]\n"
          ]
        }
      ]
    },
    {
      "cell_type": "markdown",
      "source": [
        "## **Activity 4: Data Transformation and Aggregation (45 min)**\n",
        "\n",
        "Goal: Apply transformation and aggregation techniques to analyze data."
      ],
      "metadata": {
        "id": "xPUwS7pVDPq7"
      }
    },
    {
      "cell_type": "code",
      "source": [
        "#Convert categorical data into numerical format (if necessary).\n",
        "print(df[\"Type\"])\n",
        "df[\"Type\"] = df[\"Type\"].astype(\"category\").cat.codes"
      ],
      "metadata": {
        "id": "5a0p5mQVDi3b",
        "colab": {
          "base_uri": "https://localhost:8080/"
        },
        "outputId": "8085622e-f73b-4859-8d70-c699af079b7c"
      },
      "execution_count": null,
      "outputs": [
        {
          "output_type": "stream",
          "name": "stdout",
          "text": [
            "0        h\n",
            "1        h\n",
            "2        h\n",
            "3        h\n",
            "4        h\n",
            "        ..\n",
            "13575    h\n",
            "13576    h\n",
            "13577    h\n",
            "13578    h\n",
            "13579    h\n",
            "Name: Type, Length: 13580, dtype: object\n"
          ]
        }
      ]
    },
    {
      "cell_type": "code",
      "source": [
        "# Create a new column \"Price per Square Meter\"\n",
        "df[\"Price_per_m2\"] = df[\"Price\"] / df[\"BuildingArea\"]"
      ],
      "metadata": {
        "id": "fJn6jsFdDtNO"
      },
      "execution_count": null,
      "outputs": []
    },
    {
      "cell_type": "code",
      "source": [
        "df[\"Price_per_Room\"] = df[\"Price\"] / df[\"Rooms\"]\n",
        "print(df.loc[:10, [\"Price_per_Room\"]])\n",
        "nan_count = df['Price_per_Room'].isna().sum()\n",
        "print(nan_count)\n",
        "df['Price_per_Room'].fillna(df['Price_per_Room'].mean(), inplace=True)\n"
      ],
      "metadata": {
        "id": "JfRxk30UD0YR",
        "colab": {
          "base_uri": "https://localhost:8080/"
        },
        "outputId": "7db5c5ce-6d38-4afd-fd41-c5f1b36f730d"
      },
      "execution_count": null,
      "outputs": [
        {
          "output_type": "stream",
          "name": "stdout",
          "text": [
            "    Price_per_Room\n",
            "0    740000.000000\n",
            "1    517500.000000\n",
            "2    488333.333333\n",
            "3    283333.333333\n",
            "4    400000.000000\n",
            "5    470500.000000\n",
            "6    625333.333333\n",
            "7    818000.000000\n",
            "8    300000.000000\n",
            "9    548500.000000\n",
            "10   350000.000000\n",
            "0\n"
          ]
        }
      ]
    },
    {
      "cell_type": "markdown",
      "source": [
        "****Student challenge**\n",
        "Now write commands for the following tasks: Creating a New Column \"Price per Room\"**\n",
        "1. Create a new column Price_per_Room\n",
        "2. Display the first 10 rows of the new column to check the results\n",
        "3. Handle any potential NaN or infinite values by replacing them with 0"
      ],
      "metadata": {
        "id": "6AxreMvxEXpJ"
      }
    },
    {
      "cell_type": "code",
      "source": [
        "#ONLY for Instructor\n",
        "df[\"Price_per_Room\"] = df[\"Price\"] / df[\"Rooms\"]\n",
        "#Display the first 10 rows of the new column to check the results\n",
        "print(df[[\"Rooms\", \"Price\", \"Price_per_Room\"]].head(10))\n"
      ],
      "metadata": {
        "id": "i25yFY43FMho",
        "colab": {
          "base_uri": "https://localhost:8080/"
        },
        "outputId": "7576be6c-d12f-4524-b0e3-58a16b4114fb"
      },
      "execution_count": null,
      "outputs": [
        {
          "output_type": "stream",
          "name": "stdout",
          "text": [
            "   Rooms      Price  Price_per_Room\n",
            "0      2  1480000.0   740000.000000\n",
            "1      2  1035000.0   517500.000000\n",
            "2      3  1465000.0   488333.333333\n",
            "3      3   850000.0   283333.333333\n",
            "4      4  1600000.0   400000.000000\n",
            "5      2   941000.0   470500.000000\n",
            "6      3  1876000.0   625333.333333\n",
            "7      2  1636000.0   818000.000000\n",
            "8      1   300000.0   300000.000000\n",
            "9      2  1097000.0   548500.000000\n"
          ]
        }
      ]
    },
    {
      "cell_type": "code",
      "source": [
        " # Fill NaN values with 0\n",
        "df[\"Price_per_Room\"] = df[\"Price_per_Room\"].fillna(0)\n",
        "\n",
        "# Replace infinite values with 0\n",
        "df[\"Price_per_Room\"].replace([np.inf, -np.inf], 0, inplace=True)\n",
        " # Fill NaNs with 0\n",
        "df.replace([np.inf, -np.inf], 0, inplace=True)  # Replace infinite values"
      ],
      "metadata": {
        "id": "DGw4L9CuFqZ6",
        "colab": {
          "base_uri": "https://localhost:8080/"
        },
        "outputId": "2c2d7342-30e4-429d-ee65-b12f55e8c1eb"
      },
      "execution_count": null,
      "outputs": [
        {
          "output_type": "stream",
          "name": "stderr",
          "text": [
            "<ipython-input-20-2be7b09ebf45>:1: FutureWarning: A value is trying to be set on a copy of a DataFrame or Series through chained assignment using an inplace method.\n",
            "The behavior will change in pandas 3.0. This inplace method will never work because the intermediate object on which we are setting values always behaves as a copy.\n",
            "\n",
            "For example, when doing 'df[col].method(value, inplace=True)', try using 'df.method({col: value}, inplace=True)' or df[col] = df[col].method(value) instead, to perform the operation inplace on the original object.\n",
            "\n",
            "\n",
            "  df[\"Price_per_Room\"].fillna( 0, inplace=True)  # Fill NaNs with 0\n"
          ]
        }
      ]
    },
    {
      "cell_type": "markdown",
      "source": [
        "**Group data by Suburb and find the average price.**"
      ],
      "metadata": {
        "id": "KWbTwwAFHfRD"
      }
    },
    {
      "cell_type": "code",
      "source": [
        "suburb_avg_price = df.groupby(\"Suburb\")[\"Price\"].mean()\n",
        "print(suburb_avg_price)\n"
      ],
      "metadata": {
        "id": "HuZj-deLHXsm",
        "colab": {
          "base_uri": "https://localhost:8080/"
        },
        "outputId": "d3c10f44-ca33-4ce8-c9da-610cb9d6d973"
      },
      "execution_count": null,
      "outputs": [
        {
          "output_type": "stream",
          "name": "stdout",
          "text": [
            "Suburb\n",
            "Abbotsford      1.060366e+06\n",
            "Aberfeldie      1.277455e+06\n",
            "Airport West    7.566567e+05\n",
            "Albanvale       5.370833e+05\n",
            "Albert Park     1.941355e+06\n",
            "                    ...     \n",
            "Wonga Park      9.000000e+05\n",
            "Wyndham Vale    4.832500e+05\n",
            "Yallambie       8.396875e+05\n",
            "Yarra Glen      6.200000e+05\n",
            "Yarraville      9.886155e+05\n",
            "Name: Price, Length: 314, dtype: float64\n"
          ]
        }
      ]
    },
    {
      "cell_type": "markdown",
      "source": [
        "**Sort the dataset based on price in descending order.**"
      ],
      "metadata": {
        "id": "Jj5FA0C-Hs_k"
      }
    },
    {
      "cell_type": "code",
      "source": [
        "df_sorted = df.sort_values(by=\"Price\", ascending=False)\n",
        "print(df_sorted.head())\n"
      ],
      "metadata": {
        "id": "XUlSacg3Ht2x"
      },
      "execution_count": null,
      "outputs": []
    },
    {
      "cell_type": "markdown",
      "source": [
        "## **Activity 5: Data Export and Reporting (30 min)**\n",
        "\n",
        "Goal: Save the cleaned and manipulated dataset for further use."
      ],
      "metadata": {
        "id": "HGL8z-DKIDxm"
      }
    },
    {
      "cell_type": "code",
      "source": [
        "#Save the cleaned dataset to a new CSV file.\n",
        "df.to_csv(\"cleaned_melb_data.csv\", index=False)"
      ],
      "metadata": {
        "id": "Ly-2VLIyInCf"
      },
      "execution_count": null,
      "outputs": []
    },
    {
      "cell_type": "code",
      "source": [
        "# Generate a basic summary report using Pandas profiling.\n",
        "from pandas_profiling import ProfileReport\n",
        "\n",
        "profile = ProfileReport(df)\n",
        "profile.to_file(\"report.html\")\n",
        "\n",
        "#Students will learn how to store and share processed datasets for further analysis."
      ],
      "metadata": {
        "id": "bdK-vq_HIuu0",
        "colab": {
          "base_uri": "https://localhost:8080/",
          "height": 356
        },
        "outputId": "3b1f9550-02a6-4e70-a73a-b513005a0a82"
      },
      "execution_count": 46,
      "outputs": [
        {
          "output_type": "error",
          "ename": "AttributeError",
          "evalue": "module 'numba' has no attribute 'generated_jit'",
          "traceback": [
            "\u001b[0;31m---------------------------------------------------------------------------\u001b[0m",
            "\u001b[0;31mAttributeError\u001b[0m                            Traceback (most recent call last)",
            "\u001b[0;32m<ipython-input-46-79afa15519da>\u001b[0m in \u001b[0;36m<cell line: 0>\u001b[0;34m()\u001b[0m\n\u001b[1;32m      1\u001b[0m \u001b[0;31m# Generate a basic summary report using Pandas profiling.\u001b[0m\u001b[0;34m\u001b[0m\u001b[0;34m\u001b[0m\u001b[0m\n\u001b[0;32m----> 2\u001b[0;31m \u001b[0;32mfrom\u001b[0m \u001b[0mpandas_profiling\u001b[0m \u001b[0;32mimport\u001b[0m \u001b[0mProfileReport\u001b[0m\u001b[0;34m\u001b[0m\u001b[0;34m\u001b[0m\u001b[0m\n\u001b[0m\u001b[1;32m      3\u001b[0m \u001b[0;34m\u001b[0m\u001b[0m\n\u001b[1;32m      4\u001b[0m \u001b[0mprofile\u001b[0m \u001b[0;34m=\u001b[0m \u001b[0mProfileReport\u001b[0m\u001b[0;34m(\u001b[0m\u001b[0mdf\u001b[0m\u001b[0;34m)\u001b[0m\u001b[0;34m\u001b[0m\u001b[0;34m\u001b[0m\u001b[0m\n\u001b[1;32m      5\u001b[0m \u001b[0mprofile\u001b[0m\u001b[0;34m.\u001b[0m\u001b[0mto_file\u001b[0m\u001b[0;34m(\u001b[0m\u001b[0;34m\"report.html\"\u001b[0m\u001b[0;34m)\u001b[0m\u001b[0;34m\u001b[0m\u001b[0;34m\u001b[0m\u001b[0m\n",
            "\u001b[0;32m/usr/local/lib/python3.11/dist-packages/pandas_profiling/__init__.py\u001b[0m in \u001b[0;36m<module>\u001b[0;34m\u001b[0m\n\u001b[1;32m      4\u001b[0m \"\"\"\n\u001b[1;32m      5\u001b[0m \u001b[0;34m\u001b[0m\u001b[0m\n\u001b[0;32m----> 6\u001b[0;31m \u001b[0;32mfrom\u001b[0m \u001b[0mpandas_profiling\u001b[0m\u001b[0;34m.\u001b[0m\u001b[0mcontroller\u001b[0m \u001b[0;32mimport\u001b[0m \u001b[0mpandas_decorator\u001b[0m\u001b[0;34m\u001b[0m\u001b[0;34m\u001b[0m\u001b[0m\n\u001b[0m\u001b[1;32m      7\u001b[0m \u001b[0;32mfrom\u001b[0m \u001b[0mpandas_profiling\u001b[0m\u001b[0;34m.\u001b[0m\u001b[0mprofile_report\u001b[0m \u001b[0;32mimport\u001b[0m \u001b[0mProfileReport\u001b[0m\u001b[0;34m\u001b[0m\u001b[0;34m\u001b[0m\u001b[0m\n\u001b[1;32m      8\u001b[0m \u001b[0;32mfrom\u001b[0m \u001b[0mpandas_profiling\u001b[0m\u001b[0;34m.\u001b[0m\u001b[0mversion\u001b[0m \u001b[0;32mimport\u001b[0m \u001b[0m__version__\u001b[0m\u001b[0;34m\u001b[0m\u001b[0;34m\u001b[0m\u001b[0m\n",
            "\u001b[0;32m/usr/local/lib/python3.11/dist-packages/pandas_profiling/controller/pandas_decorator.py\u001b[0m in \u001b[0;36m<module>\u001b[0;34m\u001b[0m\n\u001b[1;32m      2\u001b[0m \u001b[0;32mfrom\u001b[0m \u001b[0mpandas\u001b[0m \u001b[0;32mimport\u001b[0m \u001b[0mDataFrame\u001b[0m\u001b[0;34m\u001b[0m\u001b[0;34m\u001b[0m\u001b[0m\n\u001b[1;32m      3\u001b[0m \u001b[0;34m\u001b[0m\u001b[0m\n\u001b[0;32m----> 4\u001b[0;31m \u001b[0;32mfrom\u001b[0m \u001b[0mpandas_profiling\u001b[0m\u001b[0;34m.\u001b[0m\u001b[0mprofile_report\u001b[0m \u001b[0;32mimport\u001b[0m \u001b[0mProfileReport\u001b[0m\u001b[0;34m\u001b[0m\u001b[0;34m\u001b[0m\u001b[0m\n\u001b[0m\u001b[1;32m      5\u001b[0m \u001b[0;34m\u001b[0m\u001b[0m\n\u001b[1;32m      6\u001b[0m \u001b[0;34m\u001b[0m\u001b[0m\n",
            "\u001b[0;32m/usr/local/lib/python3.11/dist-packages/pandas_profiling/profile_report.py\u001b[0m in \u001b[0;36m<module>\u001b[0;34m\u001b[0m\n\u001b[1;32m      9\u001b[0m \u001b[0;32mimport\u001b[0m \u001b[0myaml\u001b[0m\u001b[0;34m\u001b[0m\u001b[0;34m\u001b[0m\u001b[0m\n\u001b[1;32m     10\u001b[0m \u001b[0;32mfrom\u001b[0m \u001b[0mtqdm\u001b[0m\u001b[0;34m.\u001b[0m\u001b[0mauto\u001b[0m \u001b[0;32mimport\u001b[0m \u001b[0mtqdm\u001b[0m\u001b[0;34m\u001b[0m\u001b[0;34m\u001b[0m\u001b[0m\n\u001b[0;32m---> 11\u001b[0;31m \u001b[0;32mfrom\u001b[0m \u001b[0mvisions\u001b[0m \u001b[0;32mimport\u001b[0m \u001b[0mVisionsTypeset\u001b[0m\u001b[0;34m\u001b[0m\u001b[0;34m\u001b[0m\u001b[0m\n\u001b[0m\u001b[1;32m     12\u001b[0m \u001b[0;34m\u001b[0m\u001b[0m\n\u001b[1;32m     13\u001b[0m \u001b[0;32mfrom\u001b[0m \u001b[0mpandas_profiling\u001b[0m\u001b[0;34m.\u001b[0m\u001b[0mconfig\u001b[0m \u001b[0;32mimport\u001b[0m \u001b[0mConfig\u001b[0m\u001b[0;34m,\u001b[0m \u001b[0mSettings\u001b[0m\u001b[0;34m\u001b[0m\u001b[0;34m\u001b[0m\u001b[0m\n",
            "\u001b[0;32m/usr/local/lib/python3.11/dist-packages/visions/__init__.py\u001b[0m in \u001b[0;36m<module>\u001b[0;34m\u001b[0m\n\u001b[1;32m      2\u001b[0m \u001b[0;34m\u001b[0m\u001b[0m\n\u001b[1;32m      3\u001b[0m \u001b[0;32mfrom\u001b[0m \u001b[0mvisions\u001b[0m \u001b[0;32mimport\u001b[0m \u001b[0mtypes\u001b[0m\u001b[0;34m,\u001b[0m \u001b[0mtypesets\u001b[0m\u001b[0;34m,\u001b[0m \u001b[0mutils\u001b[0m\u001b[0;34m\u001b[0m\u001b[0;34m\u001b[0m\u001b[0m\n\u001b[0;32m----> 4\u001b[0;31m \u001b[0;32mfrom\u001b[0m \u001b[0mvisions\u001b[0m\u001b[0;34m.\u001b[0m\u001b[0mbackends\u001b[0m \u001b[0;32mimport\u001b[0m \u001b[0;34m*\u001b[0m\u001b[0;34m\u001b[0m\u001b[0;34m\u001b[0m\u001b[0m\n\u001b[0m\u001b[1;32m      5\u001b[0m \u001b[0;32mfrom\u001b[0m \u001b[0mvisions\u001b[0m\u001b[0;34m.\u001b[0m\u001b[0mdeclarative\u001b[0m \u001b[0;32mimport\u001b[0m \u001b[0mcreate_type\u001b[0m\u001b[0;34m\u001b[0m\u001b[0;34m\u001b[0m\u001b[0m\n\u001b[1;32m      6\u001b[0m from visions.functional import (\n",
            "\u001b[0;32m/usr/local/lib/python3.11/dist-packages/visions/backends/__init__.py\u001b[0m in \u001b[0;36m<module>\u001b[0;34m\u001b[0m\n\u001b[1;32m      7\u001b[0m     \u001b[0;32mimport\u001b[0m \u001b[0mpandas\u001b[0m \u001b[0;32mas\u001b[0m \u001b[0mpd\u001b[0m\u001b[0;34m\u001b[0m\u001b[0;34m\u001b[0m\u001b[0m\n\u001b[1;32m      8\u001b[0m \u001b[0;34m\u001b[0m\u001b[0m\n\u001b[0;32m----> 9\u001b[0;31m     \u001b[0;32mimport\u001b[0m \u001b[0mvisions\u001b[0m\u001b[0;34m.\u001b[0m\u001b[0mbackends\u001b[0m\u001b[0;34m.\u001b[0m\u001b[0mpandas\u001b[0m\u001b[0;34m\u001b[0m\u001b[0;34m\u001b[0m\u001b[0m\n\u001b[0m\u001b[1;32m     10\u001b[0m     \u001b[0;32mfrom\u001b[0m \u001b[0mvisions\u001b[0m\u001b[0;34m.\u001b[0m\u001b[0mbackends\u001b[0m\u001b[0;34m.\u001b[0m\u001b[0mpandas\u001b[0m\u001b[0;34m.\u001b[0m\u001b[0mtest_utils\u001b[0m \u001b[0;32mimport\u001b[0m \u001b[0mpandas_version\u001b[0m\u001b[0;34m\u001b[0m\u001b[0;34m\u001b[0m\u001b[0m\n\u001b[1;32m     11\u001b[0m \u001b[0;34m\u001b[0m\u001b[0m\n",
            "\u001b[0;32m/usr/local/lib/python3.11/dist-packages/visions/backends/pandas/__init__.py\u001b[0m in \u001b[0;36m<module>\u001b[0;34m\u001b[0m\n\u001b[1;32m      1\u001b[0m \u001b[0;32mimport\u001b[0m \u001b[0mvisions\u001b[0m\u001b[0;34m.\u001b[0m\u001b[0mbackends\u001b[0m\u001b[0;34m.\u001b[0m\u001b[0mpandas\u001b[0m\u001b[0;34m.\u001b[0m\u001b[0mtraversal\u001b[0m\u001b[0;34m\u001b[0m\u001b[0;34m\u001b[0m\u001b[0m\n\u001b[0;32m----> 2\u001b[0;31m \u001b[0;32mimport\u001b[0m \u001b[0mvisions\u001b[0m\u001b[0;34m.\u001b[0m\u001b[0mbackends\u001b[0m\u001b[0;34m.\u001b[0m\u001b[0mpandas\u001b[0m\u001b[0;34m.\u001b[0m\u001b[0mtypes\u001b[0m\u001b[0;34m\u001b[0m\u001b[0;34m\u001b[0m\u001b[0m\n\u001b[0m",
            "\u001b[0;32m/usr/local/lib/python3.11/dist-packages/visions/backends/pandas/types/__init__.py\u001b[0m in \u001b[0;36m<module>\u001b[0;34m\u001b[0m\n\u001b[1;32m      1\u001b[0m \u001b[0;32mimport\u001b[0m \u001b[0mvisions\u001b[0m\u001b[0;34m.\u001b[0m\u001b[0mbackends\u001b[0m\u001b[0;34m.\u001b[0m\u001b[0mpandas\u001b[0m\u001b[0;34m.\u001b[0m\u001b[0mtypes\u001b[0m\u001b[0;34m.\u001b[0m\u001b[0mboolean\u001b[0m\u001b[0;34m\u001b[0m\u001b[0;34m\u001b[0m\u001b[0m\n\u001b[1;32m      2\u001b[0m \u001b[0;32mimport\u001b[0m \u001b[0mvisions\u001b[0m\u001b[0;34m.\u001b[0m\u001b[0mbackends\u001b[0m\u001b[0;34m.\u001b[0m\u001b[0mpandas\u001b[0m\u001b[0;34m.\u001b[0m\u001b[0mtypes\u001b[0m\u001b[0;34m.\u001b[0m\u001b[0mcategorical\u001b[0m\u001b[0;34m\u001b[0m\u001b[0;34m\u001b[0m\u001b[0m\n\u001b[0;32m----> 3\u001b[0;31m \u001b[0;32mimport\u001b[0m \u001b[0mvisions\u001b[0m\u001b[0;34m.\u001b[0m\u001b[0mbackends\u001b[0m\u001b[0;34m.\u001b[0m\u001b[0mpandas\u001b[0m\u001b[0;34m.\u001b[0m\u001b[0mtypes\u001b[0m\u001b[0;34m.\u001b[0m\u001b[0mcomplex\u001b[0m\u001b[0;34m\u001b[0m\u001b[0;34m\u001b[0m\u001b[0m\n\u001b[0m\u001b[1;32m      4\u001b[0m \u001b[0;32mimport\u001b[0m \u001b[0mvisions\u001b[0m\u001b[0;34m.\u001b[0m\u001b[0mbackends\u001b[0m\u001b[0;34m.\u001b[0m\u001b[0mpandas\u001b[0m\u001b[0;34m.\u001b[0m\u001b[0mtypes\u001b[0m\u001b[0;34m.\u001b[0m\u001b[0mcount\u001b[0m\u001b[0;34m\u001b[0m\u001b[0;34m\u001b[0m\u001b[0m\n\u001b[1;32m      5\u001b[0m \u001b[0;32mimport\u001b[0m \u001b[0mvisions\u001b[0m\u001b[0;34m.\u001b[0m\u001b[0mbackends\u001b[0m\u001b[0;34m.\u001b[0m\u001b[0mpandas\u001b[0m\u001b[0;34m.\u001b[0m\u001b[0mtypes\u001b[0m\u001b[0;34m.\u001b[0m\u001b[0mdate\u001b[0m\u001b[0;34m\u001b[0m\u001b[0;34m\u001b[0m\u001b[0m\n",
            "\u001b[0;32m/usr/local/lib/python3.11/dist-packages/visions/backends/pandas/types/complex.py\u001b[0m in \u001b[0;36m<module>\u001b[0;34m\u001b[0m\n\u001b[1;32m      5\u001b[0m \u001b[0;32mfrom\u001b[0m \u001b[0mvisions\u001b[0m\u001b[0;34m.\u001b[0m\u001b[0mbackends\u001b[0m\u001b[0;34m.\u001b[0m\u001b[0mpandas\u001b[0m\u001b[0;34m.\u001b[0m\u001b[0mseries_utils\u001b[0m \u001b[0;32mimport\u001b[0m \u001b[0mseries_not_empty\u001b[0m\u001b[0;34m,\u001b[0m \u001b[0mseries_not_sparse\u001b[0m\u001b[0;34m\u001b[0m\u001b[0;34m\u001b[0m\u001b[0m\n\u001b[1;32m      6\u001b[0m \u001b[0;32mfrom\u001b[0m \u001b[0mvisions\u001b[0m\u001b[0;34m.\u001b[0m\u001b[0mbackends\u001b[0m\u001b[0;34m.\u001b[0m\u001b[0mpandas\u001b[0m\u001b[0;34m.\u001b[0m\u001b[0mtypes\u001b[0m\u001b[0;34m.\u001b[0m\u001b[0mfloat\u001b[0m \u001b[0;32mimport\u001b[0m \u001b[0mstring_is_float\u001b[0m\u001b[0;34m\u001b[0m\u001b[0;34m\u001b[0m\u001b[0m\n\u001b[0;32m----> 7\u001b[0;31m \u001b[0;32mfrom\u001b[0m \u001b[0mvisions\u001b[0m\u001b[0;34m.\u001b[0m\u001b[0mbackends\u001b[0m\u001b[0;34m.\u001b[0m\u001b[0mshared\u001b[0m\u001b[0;34m.\u001b[0m\u001b[0mparallelization_engines\u001b[0m \u001b[0;32mimport\u001b[0m \u001b[0mpandas_apply\u001b[0m\u001b[0;34m\u001b[0m\u001b[0;34m\u001b[0m\u001b[0m\n\u001b[0m\u001b[1;32m      8\u001b[0m \u001b[0;32mfrom\u001b[0m \u001b[0mvisions\u001b[0m\u001b[0;34m.\u001b[0m\u001b[0mtypes\u001b[0m\u001b[0;34m.\u001b[0m\u001b[0mcomplex\u001b[0m \u001b[0;32mimport\u001b[0m \u001b[0mComplex\u001b[0m\u001b[0;34m\u001b[0m\u001b[0;34m\u001b[0m\u001b[0m\n\u001b[1;32m      9\u001b[0m \u001b[0;32mfrom\u001b[0m \u001b[0mvisions\u001b[0m\u001b[0;34m.\u001b[0m\u001b[0mtypes\u001b[0m\u001b[0;34m.\u001b[0m\u001b[0mstring\u001b[0m \u001b[0;32mimport\u001b[0m \u001b[0mString\u001b[0m\u001b[0;34m\u001b[0m\u001b[0;34m\u001b[0m\u001b[0m\n",
            "\u001b[0;32m/usr/local/lib/python3.11/dist-packages/visions/backends/shared/__init__.py\u001b[0m in \u001b[0;36m<module>\u001b[0;34m\u001b[0m\n\u001b[0;32m----> 1\u001b[0;31m \u001b[0;32mfrom\u001b[0m \u001b[0;34m.\u001b[0m \u001b[0;32mimport\u001b[0m \u001b[0mnan_handling\u001b[0m\u001b[0;34m,\u001b[0m \u001b[0mparallelization_engines\u001b[0m\u001b[0;34m,\u001b[0m \u001b[0mutilities\u001b[0m\u001b[0;34m\u001b[0m\u001b[0;34m\u001b[0m\u001b[0m\n\u001b[0m",
            "\u001b[0;32m/usr/local/lib/python3.11/dist-packages/visions/backends/shared/nan_handling.py\u001b[0m in \u001b[0;36m<module>\u001b[0;34m\u001b[0m\n\u001b[1;32m     32\u001b[0m \u001b[0;32mif\u001b[0m \u001b[0mhas_numba\u001b[0m\u001b[0;34m:\u001b[0m\u001b[0;34m\u001b[0m\u001b[0;34m\u001b[0m\u001b[0m\n\u001b[1;32m     33\u001b[0m \u001b[0;34m\u001b[0m\u001b[0m\n\u001b[0;32m---> 34\u001b[0;31m     \u001b[0;34m@\u001b[0m\u001b[0mnb\u001b[0m\u001b[0;34m.\u001b[0m\u001b[0mgenerated_jit\u001b[0m\u001b[0;34m(\u001b[0m\u001b[0mnopython\u001b[0m\u001b[0;34m=\u001b[0m\u001b[0;32mTrue\u001b[0m\u001b[0;34m)\u001b[0m\u001b[0;34m\u001b[0m\u001b[0;34m\u001b[0m\u001b[0m\n\u001b[0m\u001b[1;32m     35\u001b[0m     \u001b[0;32mdef\u001b[0m \u001b[0mis_missing\u001b[0m\u001b[0;34m(\u001b[0m\u001b[0mx\u001b[0m\u001b[0;34m)\u001b[0m\u001b[0;34m:\u001b[0m\u001b[0;34m\u001b[0m\u001b[0;34m\u001b[0m\u001b[0m\n\u001b[1;32m     36\u001b[0m         \"\"\"\n",
            "\u001b[0;31mAttributeError\u001b[0m: module 'numba' has no attribute 'generated_jit'"
          ]
        }
      ]
    },
    {
      "cell_type": "code",
      "source": [
        "#Homework starts from here\n"
      ],
      "metadata": {
        "id": "tmbAu549uldl"
      },
      "execution_count": null,
      "outputs": []
    },
    {
      "cell_type": "code",
      "source": [
        "#Homework Task 1 pt 1\n",
        "missing_percent = df.isna().sum() / len(df)*100\n",
        "faulty_columns = missing_percent[missing_percent > 20].index.tolist()\n",
        "print(\"Columns with more than 20% missing values:\")\n",
        "print(faulty_columns)\n",
        "cleaned_data = df.drop(columns=faulty_columns)\n",
        "print(\"Remaining columns after dropping faulty columns:\")\n",
        "print(cleaned_data.columns)\n"
      ],
      "metadata": {
        "colab": {
          "base_uri": "https://localhost:8080/"
        },
        "id": "hDjoCn7xbSlM",
        "outputId": "39ce585a-4c16-45d0-8566-edf5ed04b327"
      },
      "execution_count": 7,
      "outputs": [
        {
          "output_type": "stream",
          "name": "stdout",
          "text": [
            "Columns with more than 20% missing values:\n",
            "['BuildingArea', 'YearBuilt']\n",
            "Remaining columns after dropping faulty columns:\n",
            "Index(['Suburb', 'Address', 'Rooms', 'Type', 'Price', 'Method', 'SellerG',\n",
            "       'Date', 'Distance', 'Postcode', 'Bedroom2', 'Bathroom', 'Car',\n",
            "       'Landsize', 'CouncilArea', 'Lattitude', 'Longtitude', 'Regionname',\n",
            "       'Propertycount'],\n",
            "      dtype='object')\n"
          ]
        }
      ]
    },
    {
      "cell_type": "code",
      "source": [
        "#Homework Task 1 pt 2\n",
        "numerical_cols = df.select_dtypes(include=['int64', 'float64']).columns\n",
        "df[numerical_cols] = df[numerical_cols].fillna(df[numerical_cols].median())\n",
        "print(\"Missing values after filling:\")\n",
        "print(df.isna().sum())"
      ],
      "metadata": {
        "colab": {
          "base_uri": "https://localhost:8080/"
        },
        "id": "jPJCcVZDeVGJ",
        "outputId": "c1840dc2-ffd1-486f-a5ca-c840ac1f90fe"
      },
      "execution_count": 11,
      "outputs": [
        {
          "output_type": "stream",
          "name": "stdout",
          "text": [
            "Missing values after filling:\n",
            "Suburb              0\n",
            "Address             0\n",
            "Rooms               0\n",
            "Type                0\n",
            "Price               0\n",
            "Method              0\n",
            "SellerG             0\n",
            "Date                0\n",
            "Distance            0\n",
            "Postcode            0\n",
            "Bedroom2            0\n",
            "Bathroom            0\n",
            "Car                 0\n",
            "Landsize            0\n",
            "BuildingArea        0\n",
            "YearBuilt           0\n",
            "CouncilArea      1369\n",
            "Lattitude           0\n",
            "Longtitude          0\n",
            "Regionname          0\n",
            "Propertycount       0\n",
            "dtype: int64\n"
          ]
        }
      ]
    },
    {
      "cell_type": "code",
      "source": [
        "#Homework Task 1 pt 3\n",
        "# Step 1: Identify categorical columns (text-based)\n",
        "categorical_cols = df.select_dtypes(include=['object', 'category']).columns\n",
        "for col in categorical_cols:\n",
        "    mode_value = df[col].mode()[0]\n",
        "    df[col].fillna(mode_value, inplace=True)\n",
        "print(\"\\nMissing values after filling categorical columns:\")\n",
        "print(df['CouncilArea'].isna().sum())"
      ],
      "metadata": {
        "colab": {
          "base_uri": "https://localhost:8080/"
        },
        "id": "PtuQJPLnfax-",
        "outputId": "8ee822e6-6caf-43b2-d213-7453569f7214"
      },
      "execution_count": 12,
      "outputs": [
        {
          "output_type": "stream",
          "name": "stdout",
          "text": [
            "\n",
            "Missing values after filling categorical columns:\n",
            "0\n"
          ]
        },
        {
          "output_type": "stream",
          "name": "stderr",
          "text": [
            "<ipython-input-12-2d452d964eb3>:6: FutureWarning: A value is trying to be set on a copy of a DataFrame or Series through chained assignment using an inplace method.\n",
            "The behavior will change in pandas 3.0. This inplace method will never work because the intermediate object on which we are setting values always behaves as a copy.\n",
            "\n",
            "For example, when doing 'df[col].method(value, inplace=True)', try using 'df.method({col: value}, inplace=True)' or df[col] = df[col].method(value) instead, to perform the operation inplace on the original object.\n",
            "\n",
            "\n",
            "  df[col].fillna(mode_value, inplace=True)\n"
          ]
        }
      ]
    },
    {
      "cell_type": "code",
      "source": [
        "#Howmework Task 2 pt 1\n",
        "richmond_houses = df[(df[\"Suburb\"] == \"Richmond\") & (df[\"Price\"] > 1000000)]\n",
        "print(richmond_houses.head())\n"
      ],
      "metadata": {
        "colab": {
          "base_uri": "https://localhost:8080/"
        },
        "id": "QxTPF6F5omjb",
        "outputId": "6014a6c5-c4fe-4f28-bcc3-c6fdef4a7e70"
      },
      "execution_count": 13,
      "outputs": [
        {
          "output_type": "stream",
          "name": "stdout",
          "text": [
            "        Suburb          Address  Rooms Type      Price Method        SellerG  \\\n",
            "5257  Richmond       81 Erin St      3    h  1260000.0      S         Biggin   \n",
            "5258  Richmond  52 Lyndhurst St      3    t  1236000.0      S         Jellis   \n",
            "5263  Richmond        7 Bank St      3    h  1600000.0      S  hockingstuart   \n",
            "5264  Richmond      29 Bowen St      3    h  2180000.0     PI           Blue   \n",
            "5266  Richmond      131 Lord St      4    h  3335000.0      S         Jellis   \n",
            "\n",
            "           Date  Distance  Postcode  ...  Bathroom  Car  Landsize  \\\n",
            "5257  3/09/2016       2.6    3121.0  ...       1.0  0.0     203.0   \n",
            "5258  3/09/2016       2.6    3121.0  ...       2.0  1.0     675.0   \n",
            "5263  3/12/2016       2.6    3121.0  ...       2.0  1.0     115.0   \n",
            "5264  3/12/2016       2.6    3121.0  ...       2.0  2.0     345.0   \n",
            "5266  3/12/2016       2.6    3121.0  ...       2.0  2.0     319.0   \n",
            "\n",
            "      BuildingArea  YearBuilt  CouncilArea Lattitude  Longtitude  \\\n",
            "5257          81.0     1900.0        Yarra  -37.8166    144.9945   \n",
            "5258         126.0     1970.0        Yarra  -37.8206    145.0003   \n",
            "5263         126.0     1970.0        Yarra  -37.8163    144.9984   \n",
            "5264         126.0     1970.0        Yarra  -37.8159    144.9940   \n",
            "5266         126.0     1893.0        Yarra  -37.8244    145.0044   \n",
            "\n",
            "                 Regionname Propertycount  \n",
            "5257  Northern Metropolitan       14949.0  \n",
            "5258  Northern Metropolitan       14949.0  \n",
            "5263  Northern Metropolitan       14949.0  \n",
            "5264  Northern Metropolitan       14949.0  \n",
            "5266  Northern Metropolitan       14949.0  \n",
            "\n",
            "[5 rows x 21 columns]\n"
          ]
        }
      ]
    },
    {
      "cell_type": "code",
      "source": [
        "#Howmework Task 2 pt 2\n",
        "df_filtered = df.loc[df[\"Landsize\"] > 500, [\"Price\", \"Suburb\", \"BuildingArea\"]]\n",
        "print(df_filtered)"
      ],
      "metadata": {
        "colab": {
          "base_uri": "https://localhost:8080/"
        },
        "id": "zGdrNWFro7I4",
        "outputId": "f1d58217-a18f-43fe-e88d-35af9408e7cd"
      },
      "execution_count": 15,
      "outputs": [
        {
          "output_type": "stream",
          "name": "stdout",
          "text": [
            "           Price          Suburb  BuildingArea\n",
            "20     1330000.0      Abbotsford         135.0\n",
            "22     1090000.0      Abbotsford          27.0\n",
            "45      720000.0    Airport West         126.0\n",
            "46      785000.0    Airport West         127.0\n",
            "47      725000.0    Airport West         186.0\n",
            "...          ...             ...           ...\n",
            "13570   970000.0  Wantirna South         126.0\n",
            "13571  1330000.0  Wantirna South         191.0\n",
            "13573   635000.0        Werribee         172.0\n",
            "13575  1245000.0   Wheelers Hill         126.0\n",
            "13578  2500000.0    Williamstown         157.0\n",
            "\n",
            "[6175 rows x 3 columns]\n"
          ]
        }
      ]
    },
    {
      "cell_type": "code",
      "source": [
        "#Homework Task 2 pt 3\n",
        "df_sorted = df.sort_values(by=\"Price\", ascending=False)\n",
        "print(df_sorted.head(5))\n"
      ],
      "metadata": {
        "colab": {
          "base_uri": "https://localhost:8080/"
        },
        "id": "BYHHbQ1Rqjm7",
        "outputId": "59735b01-6eb3-4f99-ab24-96f37f97248e"
      },
      "execution_count": 18,
      "outputs": [
        {
          "output_type": "stream",
          "name": "stdout",
          "text": [
            "            Suburb         Address  Rooms Type      Price Method  \\\n",
            "12094     Mulgrave     35 Bevis St      3    h  9000000.0     PI   \n",
            "7692    Canterbury  49 Mangarra Rd      5    h  8000000.0     VB   \n",
            "9575      Hawthorn    49 Lisson Gr      4    h  7650000.0      S   \n",
            "3616           Kew     15 Barry St      6    h  6500000.0      S   \n",
            "12557  Middle Park     136 Page St      5    h  6400000.0      S   \n",
            "\n",
            "            SellerG        Date  Distance  Postcode  ...  Bathroom  Car  \\\n",
            "12094          Hall  29/07/2017      18.8    3170.0  ...       1.0  1.0   \n",
            "7692      Sotheby's  13/05/2017       9.0    3126.0  ...       5.0  4.0   \n",
            "9575   Abercromby's  17/06/2017       5.3    3122.0  ...       2.0  4.0   \n",
            "3616         Jellis  13/08/2016       5.6    3101.0  ...       6.0  3.0   \n",
            "12557      Marshall   9/09/2017       3.0    3206.0  ...       2.0  1.0   \n",
            "\n",
            "       Landsize  BuildingArea  YearBuilt  CouncilArea Lattitude  Longtitude  \\\n",
            "12094     744.0         117.0     1960.0       Monash -37.93168   145.16126   \n",
            "7692     2079.0         464.3     1880.0   Boroondara -37.81790   145.06940   \n",
            "9575     1690.0         284.0     1863.0   Boroondara -37.82652   145.03052   \n",
            "3616     1334.0         365.0     1890.0   Boroondara -37.80290   145.02670   \n",
            "12557     553.0         308.0     1920.0     Moreland -37.84908   144.95753   \n",
            "\n",
            "                       Regionname Propertycount  \n",
            "12094  South-Eastern Metropolitan        7113.0  \n",
            "7692        Southern Metropolitan        3265.0  \n",
            "9575        Southern Metropolitan       11308.0  \n",
            "3616        Southern Metropolitan       10331.0  \n",
            "12557       Southern Metropolitan        2019.0  \n",
            "\n",
            "[5 rows x 21 columns]\n"
          ]
        }
      ]
    },
    {
      "cell_type": "code",
      "source": [
        "#Homewor Task 3 pt 1\n",
        "df[\"Price_per_Room\"] = df[\"Price\"] / df[\"Rooms\"]\n",
        "df[\"Date\"] = pd.to_datetime(df[\"Date\"], format=\"%d/%m/%Y\")\n",
        "df[\"Year_Sold\"] = df[\"Date\"].dt.year\n",
        "print(df[\"Price_per_Room\"])\n",
        "print(df[\"Date\"])\n",
        "print(df[\"Year_Sold\"])"
      ],
      "metadata": {
        "colab": {
          "base_uri": "https://localhost:8080/"
        },
        "id": "JVxXzTQJq20S",
        "outputId": "46a22f33-d856-40a0-a0f4-a342b1391b58"
      },
      "execution_count": 26,
      "outputs": [
        {
          "output_type": "stream",
          "name": "stdout",
          "text": [
            "0        740000.000000\n",
            "1        517500.000000\n",
            "2        488333.333333\n",
            "3        283333.333333\n",
            "4        400000.000000\n",
            "             ...      \n",
            "13575    311250.000000\n",
            "13576    343666.666667\n",
            "13577    390000.000000\n",
            "13578    625000.000000\n",
            "13579    321250.000000\n",
            "Name: Price_per_Room, Length: 13580, dtype: float64\n",
            "0       2016-12-03\n",
            "1       2016-02-04\n",
            "2       2017-03-04\n",
            "3       2017-03-04\n",
            "4       2016-06-04\n",
            "           ...    \n",
            "13575   2017-08-26\n",
            "13576   2017-08-26\n",
            "13577   2017-08-26\n",
            "13578   2017-08-26\n",
            "13579   2017-08-26\n",
            "Name: Date, Length: 13580, dtype: datetime64[ns]\n",
            "0        2016\n",
            "1        2016\n",
            "2        2017\n",
            "3        2017\n",
            "4        2016\n",
            "         ... \n",
            "13575    2017\n",
            "13576    2017\n",
            "13577    2017\n",
            "13578    2017\n",
            "13579    2017\n",
            "Name: Year_Sold, Length: 13580, dtype: int32\n"
          ]
        }
      ]
    },
    {
      "cell_type": "code",
      "source": [
        "#Homework Task 4 pt 1\n",
        "avg_price_by_suburb = df.groupby('Suburb')['Price'].mean().round(4).reset_index()\n",
        "print(\"Average Property Price by Suburb:\")\n",
        "print(avg_price_by_suburb)\n"
      ],
      "metadata": {
        "colab": {
          "base_uri": "https://localhost:8080/"
        },
        "id": "k_6fxdoDrBK1",
        "outputId": "cb1a0542-7fd4-4325-ed04-e0c80a8ab378"
      },
      "execution_count": 31,
      "outputs": [
        {
          "output_type": "stream",
          "name": "stdout",
          "text": [
            "Average Property Price by Suburb:\n",
            "           Suburb         Price\n",
            "0      Abbotsford  1.060366e+06\n",
            "1      Aberfeldie  1.277455e+06\n",
            "2    Airport West  7.566567e+05\n",
            "3       Albanvale  5.370833e+05\n",
            "4     Albert Park  1.941355e+06\n",
            "..            ...           ...\n",
            "309    Wonga Park  9.000000e+05\n",
            "310  Wyndham Vale  4.832500e+05\n",
            "311     Yallambie  8.396875e+05\n",
            "312    Yarra Glen  6.200000e+05\n",
            "313    Yarraville  9.886155e+05\n",
            "\n",
            "[314 rows x 2 columns]\n"
          ]
        }
      ]
    },
    {
      "cell_type": "code",
      "source": [
        "#Homework Task 4 pt 2\n",
        "properties_per_suburb = df.groupby(\"Suburb\")[\"Price\"].count()\n",
        "print(properties_per_suburb)\n"
      ],
      "metadata": {
        "colab": {
          "base_uri": "https://localhost:8080/"
        },
        "id": "V1MC7uRBt79s",
        "outputId": "25718cd2-a132-40b0-acd6-02d75c74f181"
      },
      "execution_count": 32,
      "outputs": [
        {
          "output_type": "stream",
          "name": "stdout",
          "text": [
            "Suburb\n",
            "Abbotsford       56\n",
            "Aberfeldie       44\n",
            "Airport West     67\n",
            "Albanvale         6\n",
            "Albert Park      69\n",
            "               ... \n",
            "Wonga Park        1\n",
            "Wyndham Vale      4\n",
            "Yallambie        24\n",
            "Yarra Glen        1\n",
            "Yarraville      164\n",
            "Name: Price, Length: 314, dtype: int64\n"
          ]
        }
      ]
    },
    {
      "cell_type": "code",
      "source": [
        "#Homework Task 4 pt 3\n",
        "most_expensive_suburb = suburb_avg_price.idxmax()\n",
        "print(\"Most expensive suburb:\", most_expensive_suburb)\n"
      ],
      "metadata": {
        "colab": {
          "base_uri": "https://localhost:8080/"
        },
        "id": "5WfjqhcyuOhC",
        "outputId": "5d24339a-3e43-4a2c-a292-ce0b58b952b0"
      },
      "execution_count": 33,
      "outputs": [
        {
          "output_type": "stream",
          "name": "stdout",
          "text": [
            "Most expensive suburb: Kooyong\n"
          ]
        }
      ]
    },
    {
      "cell_type": "code",
      "source": [
        "#Homework Task 5 pt 1\n",
        "import matplotlib.pyplot as plt\n",
        "suburb_avg_price.head(10).plot(kind=\"bar\")\n",
        "plt.title(\"Average House Prices in Top 10 Suburbs\")\n",
        "plt.xlabel(\"Suburb\")\n"
      ],
      "metadata": {
        "colab": {
          "base_uri": "https://localhost:8080/",
          "height": 589
        },
        "id": "lKPUmJlwuhOy",
        "outputId": "5601e3e9-de24-42b7-b62e-4903b259fd48"
      },
      "execution_count": 38,
      "outputs": [
        {
          "output_type": "execute_result",
          "data": {
            "text/plain": [
              "Text(0.5, 0, 'Suburb')"
            ]
          },
          "metadata": {},
          "execution_count": 38
        },
        {
          "output_type": "display_data",
          "data": {
            "text/plain": [
              "<Figure size 640x480 with 1 Axes>"
            ],
            "image/png": "[encoded data removed]"
          },
          "metadata": {}
        }
      ]
    },
    {
      "cell_type": "code",
      "source": [],
      "metadata": {
        "id": "79muBy3evFmm"
      },
      "execution_count": null,
      "outputs": []
    }
  ]
}
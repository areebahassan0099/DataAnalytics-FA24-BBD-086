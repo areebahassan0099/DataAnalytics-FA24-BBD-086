{
  "nbformat": 4,
  "nbformat_minor": 0,
  "metadata": {
    "colab": {
      "provenance": [],
      "authorship_tag": "ABX9TyPmL9v+w8iwUBNMMcaBbfI9",
      "include_colab_link": true
    },
    "kernelspec": {
      "name": "python3",
      "display_name": "Python 3"
    },
    "language_info": {
      "name": "python"
    }
  },
  "cells": [
    {
      "cell_type": "markdown",
      "metadata": {
        "id": "view-in-github",
        "colab_type": "text"
      },
      "source": [
        "<a href=\"https://colab.research.google.com/github/areebahassan0099/FA24-BBD-086-DataAnalytics-/blob/main/(FA24_BBD_086)_Homework_week_2.ipynb\" target=\"_parent\"><img src=\"https://colab.research.google.com/assets/colab-badge.svg\" alt=\"Open In Colab\"/></a>"
      ]
    },
    {
      "cell_type": "code",
      "execution_count": 6,
      "metadata": {
        "id": "9S2Pp2PXWbIk"
      },
      "outputs": [],
      "source": [
        "#Importing Pandas and Numpy\n",
        "import pandas as pd\n",
        "import numpy as np"
      ]
    },
    {
      "cell_type": "code",
      "source": [
        "from google.colab import drive\n",
        "drive.mount('/content/drive')"
      ],
      "metadata": {
        "colab": {
          "base_uri": "https://localhost:8080/"
        },
        "id": "raWSoe4vWjiY",
        "outputId": "2f2f90e1-f06c-4632-f0fd-8c2b670d8ed0"
      },
      "execution_count": 7,
      "outputs": [
        {
          "output_type": "stream",
          "name": "stdout",
          "text": [
            "Drive already mounted at /content/drive; to attempt to forcibly remount, call drive.mount(\"/content/drive\", force_remount=True).\n"
          ]
        }
      ]
    },
    {
      "cell_type": "code",
      "source": [
        "df = pd.read_csv(\"melb_data.csv\")"
      ],
      "metadata": {
        "id": "WexKbvG2W-Na"
      },
      "execution_count": 9,
      "outputs": []
    },
    {
      "cell_type": "code",
      "source": [
        "#Homework Task 1 pt 1\n",
        "missing_percent = df.isna().sum() / len(df)*100\n",
        "faulty_columns = missing_percent[missing_percent > 20].index.tolist()\n",
        "print(\"Columns with more than 20% missing values:\")\n",
        "print(faulty_columns)\n",
        "cleaned_data = df.drop(columns=faulty_columns)\n",
        "print(\"Remaining columns after dropping faulty columns:\")\n",
        "print(cleaned_data.columns)\n"
      ],
      "metadata": {
        "colab": {
          "base_uri": "https://localhost:8080/"
        },
        "id": "eEygS74uY4v3",
        "outputId": "7c8e3813-4eeb-42b3-ce05-437482a931a6"
      },
      "execution_count": 10,
      "outputs": [
        {
          "output_type": "stream",
          "name": "stdout",
          "text": [
            "Columns with more than 20% missing values:\n",
            "['BuildingArea', 'YearBuilt']\n",
            "Remaining columns after dropping faulty columns:\n",
            "Index(['Suburb', 'Address', 'Rooms', 'Type', 'Price', 'Method', 'SellerG',\n",
            "       'Date', 'Distance', 'Postcode', 'Bedroom2', 'Bathroom', 'Car',\n",
            "       'Landsize', 'CouncilArea', 'Lattitude', 'Longtitude', 'Regionname',\n",
            "       'Propertycount'],\n",
            "      dtype='object')\n"
          ]
        }
      ]
    },
    {
      "cell_type": "code",
      "source": [
        "#Homework Task 1 pt 2\n",
        "numerical_cols = df.select_dtypes(include=['int64', 'float64']).columns\n",
        "df[numerical_cols] = df[numerical_cols].fillna(df[numerical_cols].median())\n",
        "print(\"Missing values after filling:\")\n",
        "print(df.isna().sum())"
      ],
      "metadata": {
        "colab": {
          "base_uri": "https://localhost:8080/"
        },
        "id": "RIIhfW5EY-Vg",
        "outputId": "fe2e6f68-fe51-43fc-fb30-c2d0e5c17f92"
      },
      "execution_count": 11,
      "outputs": [
        {
          "output_type": "stream",
          "name": "stdout",
          "text": [
            "Missing values after filling:\n",
            "Suburb              0\n",
            "Address             0\n",
            "Rooms               0\n",
            "Type                0\n",
            "Price               0\n",
            "Method              0\n",
            "SellerG             0\n",
            "Date                0\n",
            "Distance            0\n",
            "Postcode            0\n",
            "Bedroom2            0\n",
            "Bathroom            0\n",
            "Car                 0\n",
            "Landsize            0\n",
            "BuildingArea        0\n",
            "YearBuilt           0\n",
            "CouncilArea      1369\n",
            "Lattitude           0\n",
            "Longtitude          0\n",
            "Regionname          0\n",
            "Propertycount       0\n",
            "dtype: int64\n"
          ]
        }
      ]
    },
    {
      "cell_type": "code",
      "source": [
        "#Homework Task 1 pt 3\n",
        "# Step 1: Identify categorical columns (text-based)\n",
        "categorical_cols = df.select_dtypes(include=['object', 'category']).columns\n",
        "for col in categorical_cols:\n",
        "    mode_value = df[col].mode()[0]\n",
        "    df[col].fillna(mode_value, inplace=True)\n",
        "print(\"\\nMissing values after filling categorical columns:\")\n",
        "print(df['CouncilArea'].isna().sum())"
      ],
      "metadata": {
        "colab": {
          "base_uri": "https://localhost:8080/"
        },
        "id": "hsZ5pn__ZBMa",
        "outputId": "898434f1-9c28-465a-e80b-854ab642c53b"
      },
      "execution_count": 12,
      "outputs": [
        {
          "output_type": "stream",
          "name": "stdout",
          "text": [
            "\n",
            "Missing values after filling categorical columns:\n",
            "0\n"
          ]
        },
        {
          "output_type": "stream",
          "name": "stderr",
          "text": [
            "<ipython-input-12-2d452d964eb3>:6: FutureWarning: A value is trying to be set on a copy of a DataFrame or Series through chained assignment using an inplace method.\n",
            "The behavior will change in pandas 3.0. This inplace method will never work because the intermediate object on which we are setting values always behaves as a copy.\n",
            "\n",
            "For example, when doing 'df[col].method(value, inplace=True)', try using 'df.method({col: value}, inplace=True)' or df[col] = df[col].method(value) instead, to perform the operation inplace on the original object.\n",
            "\n",
            "\n",
            "  df[col].fillna(mode_value, inplace=True)\n"
          ]
        }
      ]
    },
    {
      "cell_type": "code",
      "source": [
        "#Howmework Task 2 pt 1\n",
        "richmond_houses = df[(df[\"Suburb\"] == \"Richmond\") & (df[\"Price\"] > 1000000)]\n",
        "print(richmond_houses.head())\n"
      ],
      "metadata": {
        "colab": {
          "base_uri": "https://localhost:8080/"
        },
        "id": "RbiFiVv3ZFck",
        "outputId": "1fe77440-2d34-4e3b-a022-1652de7061b7"
      },
      "execution_count": 13,
      "outputs": [
        {
          "output_type": "stream",
          "name": "stdout",
          "text": [
            "        Suburb          Address  Rooms Type      Price Method        SellerG  \\\n",
            "5257  Richmond       81 Erin St      3    h  1260000.0      S         Biggin   \n",
            "5258  Richmond  52 Lyndhurst St      3    t  1236000.0      S         Jellis   \n",
            "5263  Richmond        7 Bank St      3    h  1600000.0      S  hockingstuart   \n",
            "5264  Richmond      29 Bowen St      3    h  2180000.0     PI           Blue   \n",
            "5266  Richmond      131 Lord St      4    h  3335000.0      S         Jellis   \n",
            "\n",
            "           Date  Distance  Postcode  ...  Bathroom  Car  Landsize  \\\n",
            "5257  3/09/2016       2.6    3121.0  ...       1.0  0.0     203.0   \n",
            "5258  3/09/2016       2.6    3121.0  ...       2.0  1.0     675.0   \n",
            "5263  3/12/2016       2.6    3121.0  ...       2.0  1.0     115.0   \n",
            "5264  3/12/2016       2.6    3121.0  ...       2.0  2.0     345.0   \n",
            "5266  3/12/2016       2.6    3121.0  ...       2.0  2.0     319.0   \n",
            "\n",
            "      BuildingArea  YearBuilt  CouncilArea Lattitude  Longtitude  \\\n",
            "5257          81.0     1900.0        Yarra  -37.8166    144.9945   \n",
            "5258         126.0     1970.0        Yarra  -37.8206    145.0003   \n",
            "5263         126.0     1970.0        Yarra  -37.8163    144.9984   \n",
            "5264         126.0     1970.0        Yarra  -37.8159    144.9940   \n",
            "5266         126.0     1893.0        Yarra  -37.8244    145.0044   \n",
            "\n",
            "                 Regionname Propertycount  \n",
            "5257  Northern Metropolitan       14949.0  \n",
            "5258  Northern Metropolitan       14949.0  \n",
            "5263  Northern Metropolitan       14949.0  \n",
            "5264  Northern Metropolitan       14949.0  \n",
            "5266  Northern Metropolitan       14949.0  \n",
            "\n",
            "[5 rows x 21 columns]\n"
          ]
        }
      ]
    },
    {
      "cell_type": "code",
      "source": [
        "#Howmework Task 2 pt 2\n",
        "df_filtered = df.loc[df[\"Landsize\"] > 500, [\"Price\", \"Suburb\", \"BuildingArea\"]]\n",
        "print(df_filtered)"
      ],
      "metadata": {
        "colab": {
          "base_uri": "https://localhost:8080/"
        },
        "id": "HsK2gY1KZIhi",
        "outputId": "174e47b7-92bd-4c3c-a7bf-069df6ff1470"
      },
      "execution_count": 14,
      "outputs": [
        {
          "output_type": "stream",
          "name": "stdout",
          "text": [
            "           Price          Suburb  BuildingArea\n",
            "20     1330000.0      Abbotsford         135.0\n",
            "22     1090000.0      Abbotsford          27.0\n",
            "45      720000.0    Airport West         126.0\n",
            "46      785000.0    Airport West         127.0\n",
            "47      725000.0    Airport West         186.0\n",
            "...          ...             ...           ...\n",
            "13570   970000.0  Wantirna South         126.0\n",
            "13571  1330000.0  Wantirna South         191.0\n",
            "13573   635000.0        Werribee         172.0\n",
            "13575  1245000.0   Wheelers Hill         126.0\n",
            "13578  2500000.0    Williamstown         157.0\n",
            "\n",
            "[6175 rows x 3 columns]\n"
          ]
        }
      ]
    },
    {
      "cell_type": "code",
      "source": [
        "#Homework Task 2 pt 3\n",
        "df_sorted = df.sort_values(by=\"Price\", ascending=False)\n",
        "print(df_sorted.head(5))\n"
      ],
      "metadata": {
        "colab": {
          "base_uri": "https://localhost:8080/"
        },
        "id": "Axx5TMaUZMe0",
        "outputId": "03137fa4-1948-48da-e6f4-2402d7781909"
      },
      "execution_count": 15,
      "outputs": [
        {
          "output_type": "stream",
          "name": "stdout",
          "text": [
            "            Suburb         Address  Rooms Type      Price Method  \\\n",
            "12094     Mulgrave     35 Bevis St      3    h  9000000.0     PI   \n",
            "7692    Canterbury  49 Mangarra Rd      5    h  8000000.0     VB   \n",
            "9575      Hawthorn    49 Lisson Gr      4    h  7650000.0      S   \n",
            "3616           Kew     15 Barry St      6    h  6500000.0      S   \n",
            "12557  Middle Park     136 Page St      5    h  6400000.0      S   \n",
            "\n",
            "            SellerG        Date  Distance  Postcode  ...  Bathroom  Car  \\\n",
            "12094          Hall  29/07/2017      18.8    3170.0  ...       1.0  1.0   \n",
            "7692      Sotheby's  13/05/2017       9.0    3126.0  ...       5.0  4.0   \n",
            "9575   Abercromby's  17/06/2017       5.3    3122.0  ...       2.0  4.0   \n",
            "3616         Jellis  13/08/2016       5.6    3101.0  ...       6.0  3.0   \n",
            "12557      Marshall   9/09/2017       3.0    3206.0  ...       2.0  1.0   \n",
            "\n",
            "       Landsize  BuildingArea  YearBuilt  CouncilArea Lattitude  Longtitude  \\\n",
            "12094     744.0         117.0     1960.0       Monash -37.93168   145.16126   \n",
            "7692     2079.0         464.3     1880.0   Boroondara -37.81790   145.06940   \n",
            "9575     1690.0         284.0     1863.0   Boroondara -37.82652   145.03052   \n",
            "3616     1334.0         365.0     1890.0   Boroondara -37.80290   145.02670   \n",
            "12557     553.0         308.0     1920.0     Moreland -37.84908   144.95753   \n",
            "\n",
            "                       Regionname Propertycount  \n",
            "12094  South-Eastern Metropolitan        7113.0  \n",
            "7692        Southern Metropolitan        3265.0  \n",
            "9575        Southern Metropolitan       11308.0  \n",
            "3616        Southern Metropolitan       10331.0  \n",
            "12557       Southern Metropolitan        2019.0  \n",
            "\n",
            "[5 rows x 21 columns]\n"
          ]
        }
      ]
    },
    {
      "cell_type": "code",
      "source": [
        "#Homewor Task 3 all parts\n",
        "df[\"Price_per_Room\"] = df[\"Price\"] / df[\"Rooms\"]\n",
        "df[\"Date\"] = pd.to_datetime(df[\"Date\"], format=\"%d/%m/%Y\")\n",
        "df[\"Year_Sold\"] = df[\"Date\"].dt.year\n",
        "print(df[\"Price_per_Room\"])\n",
        "print(df[\"Date\"])\n",
        "print(df[\"Year_Sold\"])"
      ],
      "metadata": {
        "colab": {
          "base_uri": "https://localhost:8080/"
        },
        "id": "zHKWYpi_ZR6G",
        "outputId": "5c65ac59-f457-4771-9dbd-10c8a049e894"
      },
      "execution_count": 16,
      "outputs": [
        {
          "output_type": "stream",
          "name": "stdout",
          "text": [
            "0        740000.000000\n",
            "1        517500.000000\n",
            "2        488333.333333\n",
            "3        283333.333333\n",
            "4        400000.000000\n",
            "             ...      \n",
            "13575    311250.000000\n",
            "13576    343666.666667\n",
            "13577    390000.000000\n",
            "13578    625000.000000\n",
            "13579    321250.000000\n",
            "Name: Price_per_Room, Length: 13580, dtype: float64\n",
            "0       2016-12-03\n",
            "1       2016-02-04\n",
            "2       2017-03-04\n",
            "3       2017-03-04\n",
            "4       2016-06-04\n",
            "           ...    \n",
            "13575   2017-08-26\n",
            "13576   2017-08-26\n",
            "13577   2017-08-26\n",
            "13578   2017-08-26\n",
            "13579   2017-08-26\n",
            "Name: Date, Length: 13580, dtype: datetime64[ns]\n",
            "0        2016\n",
            "1        2016\n",
            "2        2017\n",
            "3        2017\n",
            "4        2016\n",
            "         ... \n",
            "13575    2017\n",
            "13576    2017\n",
            "13577    2017\n",
            "13578    2017\n",
            "13579    2017\n",
            "Name: Year_Sold, Length: 13580, dtype: int32\n"
          ]
        }
      ]
    },
    {
      "cell_type": "code",
      "source": [
        "#Homework Task 4 pt 1\n",
        "avg_price_by_suburb = df.groupby('Suburb')['Price'].mean().round(4).reset_index()\n",
        "print(\"Average Property Price by Suburb:\")\n",
        "print(avg_price_by_suburb)\n"
      ],
      "metadata": {
        "colab": {
          "base_uri": "https://localhost:8080/"
        },
        "id": "DMDSR-NlZTLy",
        "outputId": "2217ef4b-4ae1-40ed-e601-5c97fc99482f"
      },
      "execution_count": 17,
      "outputs": [
        {
          "output_type": "stream",
          "name": "stdout",
          "text": [
            "Average Property Price by Suburb:\n",
            "           Suburb         Price\n",
            "0      Abbotsford  1.060366e+06\n",
            "1      Aberfeldie  1.277455e+06\n",
            "2    Airport West  7.566567e+05\n",
            "3       Albanvale  5.370833e+05\n",
            "4     Albert Park  1.941355e+06\n",
            "..            ...           ...\n",
            "309    Wonga Park  9.000000e+05\n",
            "310  Wyndham Vale  4.832500e+05\n",
            "311     Yallambie  8.396875e+05\n",
            "312    Yarra Glen  6.200000e+05\n",
            "313    Yarraville  9.886155e+05\n",
            "\n",
            "[314 rows x 2 columns]\n"
          ]
        }
      ]
    },
    {
      "cell_type": "code",
      "source": [
        "#Homework Task 4 pt 2\n",
        "properties_per_suburb = df.groupby(\"Suburb\")[\"Price\"].count()\n",
        "print(properties_per_suburb)\n"
      ],
      "metadata": {
        "colab": {
          "base_uri": "https://localhost:8080/"
        },
        "id": "Iev0MW-UZdSy",
        "outputId": "9ac74866-5d57-4a61-b419-2981000d5128"
      },
      "execution_count": 18,
      "outputs": [
        {
          "output_type": "stream",
          "name": "stdout",
          "text": [
            "Suburb\n",
            "Abbotsford       56\n",
            "Aberfeldie       44\n",
            "Airport West     67\n",
            "Albanvale         6\n",
            "Albert Park      69\n",
            "               ... \n",
            "Wonga Park        1\n",
            "Wyndham Vale      4\n",
            "Yallambie        24\n",
            "Yarra Glen        1\n",
            "Yarraville      164\n",
            "Name: Price, Length: 314, dtype: int64\n"
          ]
        }
      ]
    },
    {
      "cell_type": "code",
      "source": [
        "#Homework Task 4 pt 3\n",
        "most_expensive_suburb = avg_price_by_suburb['Price'].idxmax()\n",
        "print(\"Most expensive suburb:\", avg_price_by_suburb.loc[most_expensive_suburb, 'Suburb'])\n"
      ],
      "metadata": {
        "colab": {
          "base_uri": "https://localhost:8080/"
        },
        "id": "LJnITbgcZghq",
        "outputId": "dcbe39be-64b2-4f21-fa6a-70c9446ada82"
      },
      "execution_count": 20,
      "outputs": [
        {
          "output_type": "stream",
          "name": "stdout",
          "text": [
            "Most expensive suburb: Kooyong\n"
          ]
        }
      ]
    },
    {
      "cell_type": "code",
      "source": [
        "#Homework Task 5 pt 1\n",
        "import matplotlib.pyplot as plt\n",
        "avg_price_by_suburb.head(10).plot(kind=\"bar\")\n",
        "plt.title(\"Average House Prices in Top 10 Suburbs\")\n",
        "plt.xlabel(\"Suburb\")"
      ],
      "metadata": {
        "colab": {
          "base_uri": "https://localhost:8080/",
          "height": 484
        },
        "id": "GtHAsIFBZvZi",
        "outputId": "6f515ced-8837-45ab-8077-8775e60368f9"
      },
      "execution_count": 22,
      "outputs": [
        {
          "output_type": "execute_result",
          "data": {
            "text/plain": [
              "Text(0.5, 0, 'Suburb')"
            ]
          },
          "metadata": {},
          "execution_count": 22
        },
        {
          "output_type": "display_data",
          "data": {
            "text/plain": [
              "<Figure size 640x480 with 1 Axes>"
            ],
            "image/png": "[encoded data removed]"
          },
          "metadata": {}
        }
      ]
    }
  ]
}